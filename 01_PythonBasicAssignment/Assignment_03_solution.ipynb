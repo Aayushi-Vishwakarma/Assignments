{
 "cells": [
  {
   "cell_type": "markdown",
   "id": "d8bb90d7",
   "metadata": {},
   "source": [
    "### Question 1\n",
    "Why are functions advantageous to have in your programs?"
   ]
  },
  {
   "cell_type": "markdown",
   "id": "1b8e10f0",
   "metadata": {},
   "source": [
    "### Answer 1\n",
    "Usage of functions in a program helps to makes the code easy to maintain repetitive code can be placed under a function, so that  we don't have to write same piece of code again and again. We can make use of the function and make a function call wherever that code is required."
   ]
  },
  {
   "cell_type": "markdown",
   "id": "af306c20",
   "metadata": {},
   "source": [
    "====================================================================================================================="
   ]
  },
  {
   "cell_type": "markdown",
   "id": "8cb8f539",
   "metadata": {},
   "source": [
    "### Question 2\n",
    "When does the code in a function run: when it's specified or when it's called?"
   ]
  },
  {
   "cell_type": "markdown",
   "id": "0d80e1e7",
   "metadata": {},
   "source": [
    "### Answer 2\n",
    "The code inside a function runs only when a call to that function is made, else it will not get executed."
   ]
  },
  {
   "cell_type": "markdown",
   "id": "61c2b79a",
   "metadata": {},
   "source": [
    "====================================================================================================================="
   ]
  },
  {
   "cell_type": "markdown",
   "id": "1ca24808",
   "metadata": {},
   "source": [
    "### Question 3\n",
    "What statement creates a function?"
   ]
  },
  {
   "cell_type": "markdown",
   "id": "4b28e7d1",
   "metadata": {},
   "source": [
    "### Answer 3\n",
    "To create a function, we use def keyword.\n",
    "\n",
    "For example:"
   ]
  },
  {
   "cell_type": "code",
   "execution_count": 8,
   "id": "80715fde",
   "metadata": {},
   "outputs": [],
   "source": [
    "def test():\n",
    "    print(\"This is a test function\")"
   ]
  },
  {
   "cell_type": "markdown",
   "id": "0cf9c8c8",
   "metadata": {},
   "source": [
    "====================================================================================================================="
   ]
  },
  {
   "cell_type": "markdown",
   "id": "5488286f",
   "metadata": {},
   "source": [
    "### Question 4\n",
    "What is the difference between a function and a function call?"
   ]
  },
  {
   "cell_type": "markdown",
   "id": "0e9dcabe",
   "metadata": {},
   "source": [
    "### Answer 4\n",
    "The function is a block of code which usually contains repetitive code in the program. The statements inside the function will let us know, what needs to be executed. Whereas, the function call is made to access that piece of code which is defined inside the function body\n",
    "\n",
    "For example:"
   ]
  },
  {
   "cell_type": "code",
   "execution_count": 6,
   "id": "e47f020a",
   "metadata": {},
   "outputs": [],
   "source": [
    "#Creating a function\n",
    "def test():\n",
    "    return \"This is a test function\""
   ]
  },
  {
   "cell_type": "code",
   "execution_count": 7,
   "id": "8dfa608d",
   "metadata": {},
   "outputs": [
    {
     "data": {
      "text/plain": [
       "'This is a test function'"
      ]
     },
     "execution_count": 7,
     "metadata": {},
     "output_type": "execute_result"
    }
   ],
   "source": [
    "#Calling a function\n",
    "test()"
   ]
  },
  {
   "cell_type": "markdown",
   "id": "84d864e2",
   "metadata": {},
   "source": [
    "====================================================================================================================="
   ]
  },
  {
   "cell_type": "markdown",
   "id": "ccbccc3e",
   "metadata": {},
   "source": [
    "### Question 5\n",
    "How many global scopes are there in a Python program? How many local scopes?"
   ]
  },
  {
   "cell_type": "markdown",
   "id": "4cf16095",
   "metadata": {},
   "source": [
    "### Answer 5\n",
    "There is only a single global scope, which begins from the start of the program, from the very first line and continues till the end of the code, untill the execution of whole program terminates. For example, a variable defined globally will be available throughout the program till termination\n",
    "\n",
    "Whereas on the other hand, there can be multiple local scopes. For example, if a program has multiple functions, multiple local scopes will be present. A variable declared within a function will not exist outside the function."
   ]
  },
  {
   "cell_type": "markdown",
   "id": "2126b824",
   "metadata": {},
   "source": [
    "====================================================================================================================="
   ]
  },
  {
   "cell_type": "markdown",
   "id": "e6b15cfd",
   "metadata": {},
   "source": [
    "### Question 6\n",
    "What happens to variables in a local scope when the function call returns?"
   ]
  },
  {
   "cell_type": "markdown",
   "id": "899e4542",
   "metadata": {},
   "source": [
    "### Answer 6\n",
    "A variable in a local scope will release the memory or will not exist as soon as the function call returns. "
   ]
  },
  {
   "cell_type": "markdown",
   "id": "43c84a71",
   "metadata": {},
   "source": [
    "====================================================================================================================="
   ]
  },
  {
   "cell_type": "markdown",
   "id": "b1ce73ec",
   "metadata": {},
   "source": [
    "### Question 7\n",
    "What is the concept of a return value? Is it possible to have a return value in an expression?"
   ]
  },
  {
   "cell_type": "markdown",
   "id": "ddc1f17f",
   "metadata": {},
   "source": [
    "### Answer 7\n",
    "A function executes the code inside the function body, performs the operations mentioned and may also return a value. To return something from a function, 'return' keyword is used and the value that is returned by the function can be assigned to a variable at the function call.\n",
    "A return value can also be an expression.\n",
    "\n",
    "For example:"
   ]
  },
  {
   "cell_type": "code",
   "execution_count": 14,
   "id": "cf3ee40c",
   "metadata": {},
   "outputs": [
    {
     "data": {
      "text/plain": [
       "7"
      ]
     },
     "execution_count": 14,
     "metadata": {},
     "output_type": "execute_result"
    }
   ],
   "source": [
    "#Example 1:\n",
    "\n",
    "def test1(a,b):\n",
    "    sum = a + b\n",
    "    return sum     # returning value in a variable\n",
    "\n",
    "# Function call\n",
    "a = test1(3,4)\n",
    "a"
   ]
  },
  {
   "cell_type": "code",
   "execution_count": 15,
   "id": "00f8f5ba",
   "metadata": {},
   "outputs": [
    {
     "data": {
      "text/plain": [
       "7"
      ]
     },
     "execution_count": 15,
     "metadata": {},
     "output_type": "execute_result"
    }
   ],
   "source": [
    "#Example 2:\n",
    "\n",
    "def test2(a,b):\n",
    "    return a+b      # returning expression\n",
    "\n",
    "# Function call\n",
    "b = test1(3,4)\n",
    "b"
   ]
  },
  {
   "cell_type": "markdown",
   "id": "d9c72e54",
   "metadata": {},
   "source": [
    "====================================================================================================================="
   ]
  },
  {
   "cell_type": "markdown",
   "id": "fae19d4d",
   "metadata": {},
   "source": [
    "### Question 8\n",
    "If a function does not have a return statement, what is the return value of a call to that function?"
   ]
  },
  {
   "cell_type": "markdown",
   "id": "86bb2f71",
   "metadata": {},
   "source": [
    "### Answer 8\n",
    "When a function does not have any return value, it will return a value of NoneType. In this case, when a function call is made it will only perforn the operations mentioned in the body and will return nothing.\n",
    "\n",
    "For example:"
   ]
  },
  {
   "cell_type": "code",
   "execution_count": 20,
   "id": "759555d2",
   "metadata": {},
   "outputs": [],
   "source": [
    "def test(a,b):\n",
    "    a+b\n",
    "    \n",
    "test(2,3)"
   ]
  },
  {
   "cell_type": "code",
   "execution_count": 21,
   "id": "626138a1",
   "metadata": {},
   "outputs": [
    {
     "data": {
      "text/plain": [
       "NoneType"
      ]
     },
     "execution_count": 21,
     "metadata": {},
     "output_type": "execute_result"
    }
   ],
   "source": [
    "type(test(2,3))"
   ]
  },
  {
   "cell_type": "markdown",
   "id": "c0ae18c9",
   "metadata": {},
   "source": [
    "====================================================================================================================="
   ]
  },
  {
   "cell_type": "markdown",
   "id": "ddb13a60",
   "metadata": {},
   "source": [
    "### Question 9\n",
    "How do you make a function variable refer to the global variable?"
   ]
  },
  {
   "cell_type": "markdown",
   "id": "f2a7cb15",
   "metadata": {},
   "source": [
    "### Answer 9\n",
    "A global variable can be used directly inside the function as shown in below example:"
   ]
  },
  {
   "cell_type": "code",
   "execution_count": 28,
   "id": "6f908de7",
   "metadata": {},
   "outputs": [
    {
     "name": "stdout",
     "output_type": "stream",
     "text": [
      "Inside function value :  global variable\n"
     ]
    }
   ],
   "source": [
    "a = 'global variable'\n",
    "\n",
    "def test():\n",
    "    print(\"Inside function value : \",a)\n",
    "    \n",
    "test()"
   ]
  },
  {
   "cell_type": "code",
   "execution_count": 29,
   "id": "f424c510",
   "metadata": {},
   "outputs": [
    {
     "name": "stdout",
     "output_type": "stream",
     "text": [
      "Value of a :  global variable\n"
     ]
    }
   ],
   "source": [
    "print(\"Value of a : \",a)"
   ]
  },
  {
   "cell_type": "markdown",
   "id": "ae6fdd7b",
   "metadata": {},
   "source": [
    "We can also manipulate the value of a global variable inside a function by making use of a 'global' keyword as shown in below example:\n"
   ]
  },
  {
   "cell_type": "code",
   "execution_count": 31,
   "id": "e3380a06",
   "metadata": {},
   "outputs": [],
   "source": [
    "a = 'global variable'\n",
    "\n",
    "def test():\n",
    "    global a\n",
    "    a = 'global variable inside function'\n",
    "    \n",
    "test()"
   ]
  },
  {
   "cell_type": "code",
   "execution_count": 32,
   "id": "7c4d5e23",
   "metadata": {},
   "outputs": [
    {
     "name": "stdout",
     "output_type": "stream",
     "text": [
      "Value of a :  global variable inside function\n"
     ]
    }
   ],
   "source": [
    "print(\"Value of a : \",a)"
   ]
  },
  {
   "cell_type": "markdown",
   "id": "4cf9e18d",
   "metadata": {},
   "source": [
    "====================================================================================================================="
   ]
  },
  {
   "cell_type": "markdown",
   "id": "f0588c0a",
   "metadata": {},
   "source": [
    "### Question 10\n",
    "What is the data type of None?"
   ]
  },
  {
   "cell_type": "markdown",
   "id": "8af0de89",
   "metadata": {},
   "source": [
    "### Answer 10\n",
    "NoneType is the data type of None."
   ]
  },
  {
   "cell_type": "code",
   "execution_count": 33,
   "id": "54e820d2",
   "metadata": {},
   "outputs": [
    {
     "data": {
      "text/plain": [
       "NoneType"
      ]
     },
     "execution_count": 33,
     "metadata": {},
     "output_type": "execute_result"
    }
   ],
   "source": [
    "type(None)"
   ]
  },
  {
   "cell_type": "markdown",
   "id": "c47f71a4",
   "metadata": {},
   "source": [
    "====================================================================================================================="
   ]
  },
  {
   "cell_type": "markdown",
   "id": "c608f2e6",
   "metadata": {},
   "source": [
    "### Question 11\n",
    "What does the sentence import areallyourpetsnamederic do?"
   ]
  },
  {
   "cell_type": "markdown",
   "id": "d83e3000",
   "metadata": {},
   "source": [
    "### Answer 11\n",
    "It will throw an 'ModuleNotFoundError' as shown below."
   ]
  },
  {
   "cell_type": "code",
   "execution_count": 34,
   "id": "2055eca7",
   "metadata": {},
   "outputs": [
    {
     "ename": "ModuleNotFoundError",
     "evalue": "No module named 'areallyourpetsnamederic'",
     "output_type": "error",
     "traceback": [
      "\u001b[1;31m---------------------------------------------------------------------------\u001b[0m",
      "\u001b[1;31mModuleNotFoundError\u001b[0m                       Traceback (most recent call last)",
      "Input \u001b[1;32mIn [34]\u001b[0m, in \u001b[0;36m<cell line: 1>\u001b[1;34m()\u001b[0m\n\u001b[1;32m----> 1\u001b[0m \u001b[38;5;28;01mimport\u001b[39;00m \u001b[38;5;21;01mareallyourpetsnamederic\u001b[39;00m\n",
      "\u001b[1;31mModuleNotFoundError\u001b[0m: No module named 'areallyourpetsnamederic'"
     ]
    }
   ],
   "source": [
    "import areallyourpetsnamederic"
   ]
  },
  {
   "cell_type": "markdown",
   "id": "c260eec3",
   "metadata": {},
   "source": [
    "====================================================================================================================="
   ]
  },
  {
   "cell_type": "markdown",
   "id": "bf15e244",
   "metadata": {},
   "source": [
    "### Question 12\n",
    "If you had a bacon() feature in a spam module, what would you call it after importing spam?"
   ]
  },
  {
   "cell_type": "markdown",
   "id": "0cd95143",
   "metadata": {},
   "source": [
    "### Answer 12\n",
    "To call a function of any module, we need to first import it and then use module_name.function_name tp make a call to that function."
   ]
  },
  {
   "cell_type": "code",
   "execution_count": null,
   "id": "9fcd22bc",
   "metadata": {},
   "outputs": [],
   "source": [
    "import spam\n",
    "\n",
    "spam.bacon()   # to call a function from module spam"
   ]
  },
  {
   "cell_type": "markdown",
   "id": "4a0bf861",
   "metadata": {},
   "source": [
    "====================================================================================================================="
   ]
  },
  {
   "cell_type": "markdown",
   "id": "559735d8",
   "metadata": {},
   "source": [
    "### Question 13\n",
    "What can you do to save a programme from crashing if it encounters an error?"
   ]
  },
  {
   "cell_type": "markdown",
   "id": "1281acc6",
   "metadata": {},
   "source": [
    "### Answer 13\n",
    "To save a program from crashing, it is advised to always use a try and except block around the suspicious piece of code."
   ]
  },
  {
   "cell_type": "markdown",
   "id": "767ed9c0",
   "metadata": {},
   "source": [
    "====================================================================================================================="
   ]
  },
  {
   "cell_type": "markdown",
   "id": "b90b7877",
   "metadata": {},
   "source": [
    "### Question 14\n",
    "What is the purpose of the try clause? What is the purpose of the except clause?"
   ]
  },
  {
   "cell_type": "markdown",
   "id": "33f81d1e",
   "metadata": {},
   "source": [
    "### Answer 14\n",
    "It is always advisable that the suspicious piece of code should be placed inside a 'try' block. Thus in case of an error, the function will throw an exception which can be mentioned via 'except' block and can be logged into a logging file for debugging.\n",
    "\n",
    "Doing this will save the program from crashing and will not terminate abnormally."
   ]
  },
  {
   "cell_type": "markdown",
   "id": "b10a1f62",
   "metadata": {},
   "source": [
    "====================================================================================================================="
   ]
  }
 ],
 "metadata": {
  "kernelspec": {
   "display_name": "Python 3 (ipykernel)",
   "language": "python",
   "name": "python3"
  },
  "language_info": {
   "codemirror_mode": {
    "name": "ipython",
    "version": 3
   },
   "file_extension": ".py",
   "mimetype": "text/x-python",
   "name": "python",
   "nbconvert_exporter": "python",
   "pygments_lexer": "ipython3",
   "version": "3.9.12"
  }
 },
 "nbformat": 4,
 "nbformat_minor": 5
}
