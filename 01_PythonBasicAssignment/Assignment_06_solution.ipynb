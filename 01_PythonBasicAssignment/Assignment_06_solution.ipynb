{
 "cells": [
  {
   "cell_type": "markdown",
   "id": "d8bb90d7",
   "metadata": {},
   "source": [
    "### Question 1\n",
    "What are escape characters, and how do you use them?"
   ]
  },
  {
   "cell_type": "markdown",
   "id": "1b8e10f0",
   "metadata": {},
   "source": [
    "### Answer 1\n",
    "A backslash '\\' followed by a character is considered as an escape character. For example: \\n is used to insert a new line."
   ]
  },
  {
   "cell_type": "markdown",
   "id": "af306c20",
   "metadata": {},
   "source": [
    "====================================================================================================================="
   ]
  },
  {
   "cell_type": "markdown",
   "id": "8cb8f539",
   "metadata": {},
   "source": [
    "### Question 2\n",
    "What do the escape characters n and t stand for?"
   ]
  },
  {
   "cell_type": "markdown",
   "id": "0d80e1e7",
   "metadata": {},
   "source": [
    "### Answer 2\n",
    "Escape character \\n stands for a new line and \\t is used for Tab."
   ]
  },
  {
   "cell_type": "markdown",
   "id": "61c2b79a",
   "metadata": {},
   "source": [
    "====================================================================================================================="
   ]
  },
  {
   "cell_type": "markdown",
   "id": "1ca24808",
   "metadata": {},
   "source": [
    "### Question 3\n",
    "What is the way to include backslash characters in a string?"
   ]
  },
  {
   "cell_type": "markdown",
   "id": "4b28e7d1",
   "metadata": {},
   "source": [
    "### Answer 3\n",
    "We can use escape character to insert backslash. For example, \\\\ is used to insert a backslash in a string."
   ]
  },
  {
   "cell_type": "markdown",
   "id": "0cf9c8c8",
   "metadata": {},
   "source": [
    "====================================================================================================================="
   ]
  },
  {
   "cell_type": "markdown",
   "id": "5488286f",
   "metadata": {},
   "source": [
    "### Question 4\n",
    "The string \"Howl's Moving Castle\" is a correct value. Why isn't the single quote character in the word Howl's not escaped a problem?"
   ]
  },
  {
   "cell_type": "markdown",
   "id": "0e9dcabe",
   "metadata": {},
   "source": [
    "### Answer 4\n",
    "If the string is surrounded by double quotes \"...\" then single quote (') inside the string will not be a problem. In case the string was by single quote '...' then we will have to use escape character \\' to insert a single quote in the string."
   ]
  },
  {
   "cell_type": "markdown",
   "id": "84d864e2",
   "metadata": {},
   "source": [
    "====================================================================================================================="
   ]
  },
  {
   "cell_type": "markdown",
   "id": "ccbccc3e",
   "metadata": {},
   "source": [
    "### Question 5\n",
    "How do you write a string of newlines if you don't want to use the n character?"
   ]
  },
  {
   "cell_type": "markdown",
   "id": "4cf16095",
   "metadata": {},
   "source": [
    "### Answer 5\n",
    "Wecan make use of \"\"\"....\"\"\" to print a string with new lines without using \\n."
   ]
  },
  {
   "cell_type": "code",
   "execution_count": 12,
   "id": "54888975",
   "metadata": {},
   "outputs": [
    {
     "name": "stdout",
     "output_type": "stream",
     "text": [
      "\n",
      "This \n",
      "is \n",
      "a\n",
      "python\n",
      "code.\n"
     ]
    }
   ],
   "source": [
    "print(\"\"\"\n",
    "This \n",
    "is \n",
    "a\n",
    "python\n",
    "code.\"\"\")"
   ]
  },
  {
   "cell_type": "markdown",
   "id": "2126b824",
   "metadata": {},
   "source": [
    "====================================================================================================================="
   ]
  },
  {
   "cell_type": "markdown",
   "id": "e6b15cfd",
   "metadata": {},
   "source": [
    "### Question 6\n",
    "What are the values of the given expressions?\n",
    "\n",
    "'Hello, world!'[1]\n",
    "\n",
    "'Hello, world!'[0:5]\n",
    "\n",
    "'Hello, world!'[:5]\n",
    "\n",
    "'Hello, world!'[3:]"
   ]
  },
  {
   "cell_type": "markdown",
   "id": "899e4542",
   "metadata": {},
   "source": [
    "### Answer 6\n",
    "The output will be:\n",
    "\n",
    "'Hello, world!'[1]  => 'e'\n",
    "\n",
    "'Hello, world!'[0:5]  => 'Hello'\n",
    "\n",
    "'Hello, world!'[:5]  => 'Hello'\n",
    "\n",
    "'Hello, world!'[3:]  => 'lo, world!'"
   ]
  },
  {
   "cell_type": "markdown",
   "id": "43c84a71",
   "metadata": {},
   "source": [
    "====================================================================================================================="
   ]
  },
  {
   "cell_type": "markdown",
   "id": "b1ce73ec",
   "metadata": {},
   "source": [
    "### Question 7\n",
    "What are the values of the following expressions?\n",
    "\n",
    "'Hello'.upper()\n",
    "\n",
    "\n",
    "'Hello'.upper().isupper()\n",
    "\n",
    "\n",
    "'Hello'.upper().lower()"
   ]
  },
  {
   "cell_type": "markdown",
   "id": "ddc1f17f",
   "metadata": {},
   "source": [
    "### Answer 7\n",
    "The output will be:\n",
    "\n",
    "'Hello'.upper()                => 'HELLO'\n",
    "\n",
    "'Hello'.upper().isupper()      => True\n",
    "\n",
    "'Hello'.upper().lower()        => 'hello'"
   ]
  },
  {
   "cell_type": "markdown",
   "id": "d9c72e54",
   "metadata": {},
   "source": [
    "====================================================================================================================="
   ]
  },
  {
   "cell_type": "markdown",
   "id": "fae19d4d",
   "metadata": {},
   "source": [
    "### Question 8\n",
    "What are the values of the following expressions?\n",
    "\n",
    "'Remember, remember, the fifth of July.'.split()\n",
    "\n",
    "'-'.join('There can only one.'.split())"
   ]
  },
  {
   "cell_type": "markdown",
   "id": "86bb2f71",
   "metadata": {},
   "source": [
    "### Answer 8\n",
    "The output will be :\n",
    "\n",
    "'Remember, remember, the fifth of July.'.split()\n",
    "\n",
    "=> ['Remember,', 'remember,', 'the', 'fifth', 'of', 'July.']\n",
    "\n",
    "------------------------------------------------------------\n",
    "\n",
    "'-'.join('There can only one.'.split())\n",
    "\n",
    "=> 'There-can-only-one.'"
   ]
  },
  {
   "cell_type": "markdown",
   "id": "c0ae18c9",
   "metadata": {},
   "source": [
    "====================================================================================================================="
   ]
  },
  {
   "cell_type": "markdown",
   "id": "ddb13a60",
   "metadata": {},
   "source": [
    "### Question 9\n",
    "What are the methods for right-justifying, left-justifying, and centering a string?"
   ]
  },
  {
   "cell_type": "markdown",
   "id": "f2a7cb15",
   "metadata": {},
   "source": [
    "### Answer 9\n",
    "rjust(), ljust() and center() methods are used for right-justifying, left-justifying, and centering a string, respectively."
   ]
  },
  {
   "cell_type": "markdown",
   "id": "4cf9e18d",
   "metadata": {},
   "source": [
    "====================================================================================================================="
   ]
  },
  {
   "cell_type": "markdown",
   "id": "f0588c0a",
   "metadata": {},
   "source": [
    "### Question 10\n",
    "What is the best way to remove whitespace characters from the start or end?"
   ]
  },
  {
   "cell_type": "markdown",
   "id": "8af0de89",
   "metadata": {},
   "source": [
    "### Answer 10\n",
    "lstrip() and rstrip() methods are used to remove white spaces from left and right side of the string, respectively. strip() method is used to remove white spaces from both ends at the same time."
   ]
  },
  {
   "cell_type": "markdown",
   "id": "c47f71a4",
   "metadata": {},
   "source": [
    "====================================================================================================================="
   ]
  }
 ],
 "metadata": {
  "kernelspec": {
   "display_name": "Python 3 (ipykernel)",
   "language": "python",
   "name": "python3"
  },
  "language_info": {
   "codemirror_mode": {
    "name": "ipython",
    "version": 3
   },
   "file_extension": ".py",
   "mimetype": "text/x-python",
   "name": "python",
   "nbconvert_exporter": "python",
   "pygments_lexer": "ipython3",
   "version": "3.9.12"
  }
 },
 "nbformat": 4,
 "nbformat_minor": 5
}
