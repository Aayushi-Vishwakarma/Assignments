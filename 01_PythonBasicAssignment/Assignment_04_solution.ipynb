{
 "cells": [
  {
   "cell_type": "markdown",
   "id": "d8bb90d7",
   "metadata": {},
   "source": [
    "### Question 1\n",
    "What exactly is []?"
   ]
  },
  {
   "cell_type": "markdown",
   "id": "1b8e10f0",
   "metadata": {},
   "source": [
    "### Answer 1\n",
    "The [] denotes an empty list."
   ]
  },
  {
   "cell_type": "markdown",
   "id": "af306c20",
   "metadata": {},
   "source": [
    "====================================================================================================================="
   ]
  },
  {
   "cell_type": "markdown",
   "id": "8cb8f539",
   "metadata": {},
   "source": [
    "### Question 2\n",
    "In a list of values stored in a variable called spam, how would you assign the value 'hello' as the third value? (Assume [2, 4, 6, 8, 10] are in spam.)"
   ]
  },
  {
   "cell_type": "markdown",
   "id": "0d80e1e7",
   "metadata": {},
   "source": [
    "### Answer 2\n"
   ]
  },
  {
   "cell_type": "code",
   "execution_count": 1,
   "id": "740e2bad",
   "metadata": {},
   "outputs": [
    {
     "data": {
      "text/plain": [
       "[2, 4, 'hello', 8, 10]"
      ]
     },
     "execution_count": 1,
     "metadata": {},
     "output_type": "execute_result"
    }
   ],
   "source": [
    "spam = [2,4,5,8,10]\n",
    "spam[2] = 'hello'\n",
    "spam"
   ]
  },
  {
   "cell_type": "markdown",
   "id": "61c2b79a",
   "metadata": {},
   "source": [
    "====================================================================================================================="
   ]
  },
  {
   "cell_type": "markdown",
   "id": "4bf5ece1",
   "metadata": {},
   "source": [
    "Let's pretend the spam includes the list ['a', 'b', 'c', 'd'] for the next three queries."
   ]
  },
  {
   "cell_type": "markdown",
   "id": "1ca24808",
   "metadata": {},
   "source": [
    "### Question 3\n",
    "What is the value of spam[int(int('3' * 2) / 11)]?"
   ]
  },
  {
   "cell_type": "markdown",
   "id": "4b28e7d1",
   "metadata": {},
   "source": [
    "### Answer 3\n",
    "The value of spam[int(int('3' * 2) / 11)] is 'd'"
   ]
  },
  {
   "cell_type": "markdown",
   "id": "0cf9c8c8",
   "metadata": {},
   "source": [
    "====================================================================================================================="
   ]
  },
  {
   "cell_type": "markdown",
   "id": "5488286f",
   "metadata": {},
   "source": [
    "### Question 4\n",
    "What is the value of spam[-1]?"
   ]
  },
  {
   "cell_type": "markdown",
   "id": "0e9dcabe",
   "metadata": {},
   "source": [
    "### Answer 4\n",
    "The value of spam[-1] is 'd'"
   ]
  },
  {
   "cell_type": "markdown",
   "id": "84d864e2",
   "metadata": {},
   "source": [
    "====================================================================================================================="
   ]
  },
  {
   "cell_type": "markdown",
   "id": "ccbccc3e",
   "metadata": {},
   "source": [
    "### Question 5\n",
    "What is the value of spam[:2]?"
   ]
  },
  {
   "cell_type": "markdown",
   "id": "4cf16095",
   "metadata": {},
   "source": [
    "### Answer 5\n",
    "The value of spam[:2] is ['a','b']"
   ]
  },
  {
   "cell_type": "markdown",
   "id": "2126b824",
   "metadata": {},
   "source": [
    "====================================================================================================================="
   ]
  },
  {
   "cell_type": "markdown",
   "id": "c69ecc33",
   "metadata": {},
   "source": [
    "Let's pretend bacon has the list [3.14, 'cat', 11, 'cat', True] for the next three questions."
   ]
  },
  {
   "cell_type": "markdown",
   "id": "e6b15cfd",
   "metadata": {},
   "source": [
    "### Question 6\n",
    "What is the value of bacon.index('cat')?"
   ]
  },
  {
   "cell_type": "markdown",
   "id": "899e4542",
   "metadata": {},
   "source": [
    "### Answer 6\n",
    "The value of bacon.index('cat') is 1"
   ]
  },
  {
   "cell_type": "markdown",
   "id": "43c84a71",
   "metadata": {},
   "source": [
    "====================================================================================================================="
   ]
  },
  {
   "cell_type": "markdown",
   "id": "b1ce73ec",
   "metadata": {},
   "source": [
    "### Question 7\n",
    "How does bacon.append(99) change the look of the list value in bacon?"
   ]
  },
  {
   "cell_type": "markdown",
   "id": "ddc1f17f",
   "metadata": {},
   "source": [
    "### Answer 7\n",
    "After performing bacon.append(99) the bacon list will become:  [3.14, 'cat', 11, 'cat', True, 99]"
   ]
  },
  {
   "cell_type": "markdown",
   "id": "d9c72e54",
   "metadata": {},
   "source": [
    "====================================================================================================================="
   ]
  },
  {
   "cell_type": "markdown",
   "id": "fae19d4d",
   "metadata": {},
   "source": [
    "### Question 8\n",
    "How does bacon.remove('cat') change the look of the list in bacon?"
   ]
  },
  {
   "cell_type": "markdown",
   "id": "86bb2f71",
   "metadata": {},
   "source": [
    "### Answer 8\n",
    "Considering original bacon list [3.14, 'cat', 11, 'cat', True]\n",
    "\n",
    "After performing bacon.remove('cat') the bacon list will become: [3.14, 11, 'cat', True]"
   ]
  },
  {
   "cell_type": "markdown",
   "id": "c0ae18c9",
   "metadata": {},
   "source": [
    "====================================================================================================================="
   ]
  },
  {
   "cell_type": "markdown",
   "id": "ddb13a60",
   "metadata": {},
   "source": [
    "### Question 9\n",
    "What are the list concatenation and list replication operators?"
   ]
  },
  {
   "cell_type": "markdown",
   "id": "f2a7cb15",
   "metadata": {},
   "source": [
    "### Answer 9\n",
    "The list concatenation operator is + and list replication operator is *\n",
    "\n",
    "concatenation will join two list whereas replication will repeat the list."
   ]
  },
  {
   "cell_type": "markdown",
   "id": "4cf9e18d",
   "metadata": {},
   "source": [
    "====================================================================================================================="
   ]
  },
  {
   "cell_type": "markdown",
   "id": "f0588c0a",
   "metadata": {},
   "source": [
    "### Question 10\n",
    "What is difference between the list methods append() and insert()?"
   ]
  },
  {
   "cell_type": "markdown",
   "id": "8af0de89",
   "metadata": {},
   "source": [
    "### Answer 10\n",
    "append() method will always insert the element at the end of the list and insert() method will insert the element at the mentioned index. insert() method takes two arguments insert(index,element). "
   ]
  },
  {
   "cell_type": "markdown",
   "id": "c47f71a4",
   "metadata": {},
   "source": [
    "====================================================================================================================="
   ]
  },
  {
   "cell_type": "markdown",
   "id": "c608f2e6",
   "metadata": {},
   "source": [
    "### Question 11\n",
    "What are the two methods for removing items from a list?"
   ]
  },
  {
   "cell_type": "markdown",
   "id": "d83e3000",
   "metadata": {},
   "source": [
    "### Answer 11\n",
    "remove() and pop() methods are used to remove items from the list. \n",
    "\n",
    "remove() method uses element as argument and pop() method uses index as argument and returns the element."
   ]
  },
  {
   "cell_type": "markdown",
   "id": "c260eec3",
   "metadata": {},
   "source": [
    "====================================================================================================================="
   ]
  },
  {
   "cell_type": "markdown",
   "id": "bf15e244",
   "metadata": {},
   "source": [
    "### Question 12\n",
    "Describe how list values and string values are identical."
   ]
  },
  {
   "cell_type": "markdown",
   "id": "0cd95143",
   "metadata": {},
   "source": [
    "### Answer 12\n",
    "List values and string values are identical in the sense that elements of both can be accessed via indexing. Both are iterable."
   ]
  },
  {
   "cell_type": "markdown",
   "id": "4a0bf861",
   "metadata": {},
   "source": [
    "====================================================================================================================="
   ]
  },
  {
   "cell_type": "markdown",
   "id": "559735d8",
   "metadata": {},
   "source": [
    "### Question 13\n",
    "What's the difference between tuples and lists?"
   ]
  },
  {
   "cell_type": "markdown",
   "id": "1281acc6",
   "metadata": {},
   "source": [
    "### Answer 13\n",
    "List are mutable and tuples are immutable."
   ]
  },
  {
   "cell_type": "markdown",
   "id": "767ed9c0",
   "metadata": {},
   "source": [
    "====================================================================================================================="
   ]
  },
  {
   "cell_type": "markdown",
   "id": "22e1b98c",
   "metadata": {},
   "source": [
    "### Question 14\n",
    "How do you type a tuple value that only contains the integer 42?"
   ]
  },
  {
   "cell_type": "markdown",
   "id": "4e0cfb79",
   "metadata": {},
   "source": [
    "### Answer 14\n"
   ]
  },
  {
   "cell_type": "code",
   "execution_count": 98,
   "id": "1bf03f38",
   "metadata": {},
   "outputs": [
    {
     "data": {
      "text/plain": [
       "tuple"
      ]
     },
     "execution_count": 98,
     "metadata": {},
     "output_type": "execute_result"
    }
   ],
   "source": [
    "a = (42,)\n",
    "type(a)"
   ]
  },
  {
   "cell_type": "markdown",
   "id": "463374ae",
   "metadata": {},
   "source": [
    "====================================================================================================================="
   ]
  },
  {
   "cell_type": "markdown",
   "id": "81df44ad",
   "metadata": {},
   "source": [
    "### Question 15\n",
    "How do you get a list value's tuple form? How do you get a tuple value's list form?"
   ]
  },
  {
   "cell_type": "markdown",
   "id": "e7202701",
   "metadata": {},
   "source": [
    "### Answer 15\n",
    "To convert a list into a tuple we use tuple() method. And to convert tuple into a list, we use list() method as shown below:"
   ]
  },
  {
   "cell_type": "code",
   "execution_count": 12,
   "id": "6a172360",
   "metadata": {},
   "outputs": [
    {
     "data": {
      "text/plain": [
       "(3, 4, 5)"
      ]
     },
     "execution_count": 12,
     "metadata": {},
     "output_type": "execute_result"
    }
   ],
   "source": [
    "L = [3,4,5]\n",
    "tuple(L)"
   ]
  },
  {
   "cell_type": "code",
   "execution_count": 13,
   "id": "0b4f13b0",
   "metadata": {},
   "outputs": [
    {
     "data": {
      "text/plain": [
       "[3, 4, 5]"
      ]
     },
     "execution_count": 13,
     "metadata": {},
     "output_type": "execute_result"
    }
   ],
   "source": [
    "t = (3,4,5)\n",
    "list(t)"
   ]
  },
  {
   "cell_type": "markdown",
   "id": "688251bc",
   "metadata": {},
   "source": [
    "====================================================================================================================="
   ]
  },
  {
   "cell_type": "markdown",
   "id": "a5819328",
   "metadata": {},
   "source": [
    "### Question 16\n",
    "Variables that \"contain\" list values are not necessarily lists themselves. Instead, what do they contain?"
   ]
  },
  {
   "cell_type": "markdown",
   "id": "69983fd8",
   "metadata": {},
   "source": [
    "### Answer 16\n",
    "A variable that contains the list, actually contains a reference to that list.\n"
   ]
  },
  {
   "cell_type": "markdown",
   "id": "4bc00d86",
   "metadata": {},
   "source": [
    "====================================================================================================================="
   ]
  },
  {
   "cell_type": "markdown",
   "id": "a5045b42",
   "metadata": {},
   "source": [
    "### Question 17\n",
    "How do you distinguish between copy.copy() and copy.deepcopy()?"
   ]
  },
  {
   "cell_type": "markdown",
   "id": "2d60a725",
   "metadata": {},
   "source": [
    "### Answer 17\n",
    "copy.copy() is a shallow copy which is a non recursive process whereas copy.deepcopy() is a deep copy which is a recursive process.\n",
    "\n",
    "Any changes done to the copied list will reflect to original list in case of copy.copy() whereas it will not reflect in case of copy.deepcopy()."
   ]
  },
  {
   "cell_type": "code",
   "execution_count": null,
   "id": "4fa377fa",
   "metadata": {},
   "outputs": [],
   "source": []
  }
 ],
 "metadata": {
  "kernelspec": {
   "display_name": "Python 3 (ipykernel)",
   "language": "python",
   "name": "python3"
  },
  "language_info": {
   "codemirror_mode": {
    "name": "ipython",
    "version": 3
   },
   "file_extension": ".py",
   "mimetype": "text/x-python",
   "name": "python",
   "nbconvert_exporter": "python",
   "pygments_lexer": "ipython3",
   "version": "3.9.12"
  }
 },
 "nbformat": 4,
 "nbformat_minor": 5
}
