{
 "cells": [
  {
   "cell_type": "markdown",
   "id": "d8bb90d7",
   "metadata": {},
   "source": [
    "### Question 1\n",
    "What does an empty dictionary's code look like?"
   ]
  },
  {
   "cell_type": "markdown",
   "id": "1b8e10f0",
   "metadata": {},
   "source": [
    "### Answer 1\n",
    "Empty dict is represented by {}"
   ]
  },
  {
   "cell_type": "markdown",
   "id": "af306c20",
   "metadata": {},
   "source": [
    "====================================================================================================================="
   ]
  },
  {
   "cell_type": "markdown",
   "id": "8cb8f539",
   "metadata": {},
   "source": [
    "### Question 2\n",
    "What is the value of a dictionary value with the key 'foo' and the value 42?"
   ]
  },
  {
   "cell_type": "markdown",
   "id": "0d80e1e7",
   "metadata": {},
   "source": [
    "### Answer 2\n",
    "d = {'foo' : 42 } "
   ]
  },
  {
   "cell_type": "markdown",
   "id": "61c2b79a",
   "metadata": {},
   "source": [
    "====================================================================================================================="
   ]
  },
  {
   "cell_type": "markdown",
   "id": "1ca24808",
   "metadata": {},
   "source": [
    "### Question 3\n",
    "What is the most significant distinction between a dictionary and a list?"
   ]
  },
  {
   "cell_type": "markdown",
   "id": "4b28e7d1",
   "metadata": {},
   "source": [
    "### Answer 3\n",
    "Items in a dictionary is stored in a key-value pair.\n",
    "\n",
    "Example: d = { 'key' : value }\n",
    "\n",
    "A list is a sequence of elements stored at an ordered index values.\n",
    "\n",
    "Example: l = [3,4,5]"
   ]
  },
  {
   "cell_type": "markdown",
   "id": "0cf9c8c8",
   "metadata": {},
   "source": [
    "====================================================================================================================="
   ]
  },
  {
   "cell_type": "markdown",
   "id": "5488286f",
   "metadata": {},
   "source": [
    "### Question 4\n",
    "What happens if you try to access spam['foo'] if spam is {'bar': 100}?"
   ]
  },
  {
   "cell_type": "markdown",
   "id": "0e9dcabe",
   "metadata": {},
   "source": [
    "### Answer 4\n",
    "It will thow a KeyError."
   ]
  },
  {
   "cell_type": "markdown",
   "id": "84d864e2",
   "metadata": {},
   "source": [
    "====================================================================================================================="
   ]
  },
  {
   "cell_type": "markdown",
   "id": "ccbccc3e",
   "metadata": {},
   "source": [
    "### Question 5\n",
    "If a dictionary is stored in spam, what is the difference between the expressions 'cat' in spam and 'cat' in spam.keys()?"
   ]
  },
  {
   "cell_type": "markdown",
   "id": "4cf16095",
   "metadata": {},
   "source": [
    "### Answer 5\n",
    "In the dictionary spam, 'cat' will be one of the keys in that dictionary. And when we run spam.key() it returns all the keys of the dictionary spam. Thus 'cat' in this case will be returned only if a key is present as 'cat'."
   ]
  },
  {
   "cell_type": "markdown",
   "id": "2126b824",
   "metadata": {},
   "source": [
    "====================================================================================================================="
   ]
  },
  {
   "cell_type": "markdown",
   "id": "e6b15cfd",
   "metadata": {},
   "source": [
    "### Question 6\n",
    "If a dictionary is stored in spam, what is the difference between the expressions 'cat' in spam and 'cat' in spam.values()?"
   ]
  },
  {
   "cell_type": "markdown",
   "id": "899e4542",
   "metadata": {},
   "source": [
    "### Answer 6\n",
    "In the dictionary spam, 'cat' will be one of the keys in that dictionary. And when we run spam.values() it returns all the values of the dictionary spam. Thus 'cat' in this case will be returned if any value is present as 'cat'."
   ]
  },
  {
   "cell_type": "code",
   "execution_count": 14,
   "id": "29a14e79",
   "metadata": {},
   "outputs": [
    {
     "data": {
      "text/plain": [
       "dict_values([23, 22])"
      ]
     },
     "execution_count": 14,
     "metadata": {},
     "output_type": "execute_result"
    }
   ],
   "source": [
    "spam.values()"
   ]
  },
  {
   "cell_type": "markdown",
   "id": "43c84a71",
   "metadata": {},
   "source": [
    "====================================================================================================================="
   ]
  },
  {
   "cell_type": "markdown",
   "id": "b1ce73ec",
   "metadata": {},
   "source": [
    "### Question 7"
   ]
  },
  {
   "cell_type": "code",
   "execution_count": null,
   "id": "051d4200",
   "metadata": {},
   "outputs": [],
   "source": [
    "\"\"\"\n",
    "What is a shortcut for the following code?\n",
    "if 'color' not in spam:\n",
    "spam['color'] = 'black'\n",
    "\"\"\""
   ]
  },
  {
   "cell_type": "markdown",
   "id": "ddc1f17f",
   "metadata": {},
   "source": [
    "### Answer 7\n",
    "The shortcut for the above code will be as below:\n",
    "\n",
    "spam['color'] = 'black'\n",
    "\n",
    "It will create a key 'color' with value 'black' if it does not exist."
   ]
  },
  {
   "cell_type": "markdown",
   "id": "c0ae18c9",
   "metadata": {},
   "source": [
    "====================================================================================================================="
   ]
  },
  {
   "cell_type": "markdown",
   "id": "fae19d4d",
   "metadata": {},
   "source": [
    "### Question 8\n",
    "How do you \"pretty print\" dictionary values using which module and function?"
   ]
  },
  {
   "cell_type": "markdown",
   "id": "86bb2f71",
   "metadata": {},
   "source": [
    "### Answer 8\n",
    "We can use PrettyPrinter function of the pprint module.\n",
    "\n",
    "We can also use dumps function of the json module."
   ]
  },
  {
   "cell_type": "markdown",
   "id": "d9c72e54",
   "metadata": {},
   "source": [
    "====================================================================================================================="
   ]
  }
 ],
 "metadata": {
  "kernelspec": {
   "display_name": "Python 3 (ipykernel)",
   "language": "python",
   "name": "python3"
  },
  "language_info": {
   "codemirror_mode": {
    "name": "ipython",
    "version": 3
   },
   "file_extension": ".py",
   "mimetype": "text/x-python",
   "name": "python",
   "nbconvert_exporter": "python",
   "pygments_lexer": "ipython3",
   "version": "3.9.12"
  }
 },
 "nbformat": 4,
 "nbformat_minor": 5
}
