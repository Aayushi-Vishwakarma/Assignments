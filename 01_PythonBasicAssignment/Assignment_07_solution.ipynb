{
 "cells": [
  {
   "cell_type": "markdown",
   "id": "d8bb90d7",
   "metadata": {},
   "source": [
    "### Question 1\n",
    "What is the name of the feature responsible for generating Regex objects?"
   ]
  },
  {
   "cell_type": "markdown",
   "id": "1b8e10f0",
   "metadata": {},
   "source": [
    "### Answer 1\n",
    "In python, there is a module 're' that supports the use of Regular Expressions. Regular expression is a sequence of characters that uses a search pattern to find a string or strings, matching the pattern provided. There are different methods available in 're' module to search the matching pattern. For example, search(), findall(), etc.\n",
    "\n",
    "re.compile() method is used to generate the Regex Object and that object can be used by other functions."
   ]
  },
  {
   "cell_type": "markdown",
   "id": "af306c20",
   "metadata": {},
   "source": [
    "====================================================================================================================="
   ]
  },
  {
   "cell_type": "markdown",
   "id": "8cb8f539",
   "metadata": {},
   "source": [
    "### Question 2\n",
    "Why do raw strings often appear in Regex objects?"
   ]
  },
  {
   "cell_type": "markdown",
   "id": "0d80e1e7",
   "metadata": {},
   "source": [
    "### Answer 2\n",
    "Raw strings are used to give a meaning to the string. The use of backslash ('\\') allows to use a special characters without invoking their special meanings."
   ]
  },
  {
   "cell_type": "markdown",
   "id": "61c2b79a",
   "metadata": {},
   "source": [
    "====================================================================================================================="
   ]
  },
  {
   "cell_type": "markdown",
   "id": "1ca24808",
   "metadata": {},
   "source": [
    "### Question 3\n",
    "What is the return value of the search() method?"
   ]
  },
  {
   "cell_type": "markdown",
   "id": "4b28e7d1",
   "metadata": {},
   "source": [
    "### Answer 3\n",
    "The search() method returns a Match Object."
   ]
  },
  {
   "cell_type": "markdown",
   "id": "0cf9c8c8",
   "metadata": {},
   "source": [
    "====================================================================================================================="
   ]
  },
  {
   "cell_type": "markdown",
   "id": "5488286f",
   "metadata": {},
   "source": [
    "### Question 4\n",
    "From a Match item, how do you get the actual strings that match the pattern?"
   ]
  },
  {
   "cell_type": "markdown",
   "id": "0e9dcabe",
   "metadata": {},
   "source": [
    "### Answer 4\n",
    "From a Match item, we can use group() method to get the actual string. group(0) will return the entire string mtched."
   ]
  },
  {
   "cell_type": "markdown",
   "id": "84d864e2",
   "metadata": {},
   "source": [
    "====================================================================================================================="
   ]
  },
  {
   "cell_type": "markdown",
   "id": "ccbccc3e",
   "metadata": {},
   "source": [
    "### Question 5\n",
    "In the regex which created from the r'(\\d\\d\\d)-(\\d\\d\\d-\\d\\d\\d\\d)', what does group zero cover? Group 2? Group 1?"
   ]
  },
  {
   "cell_type": "markdown",
   "id": "4cf16095",
   "metadata": {},
   "source": [
    "### Answer 5\n",
    "With respect to the above example:\n",
    "\n",
    "group zero covers the entire string which will be '(\\d\\d\\d)-(\\d\\d\\d-\\d\\d\\d\\d)'\n",
    "\n",
    "group 1 covers the first group which will be '(\\d\\d\\d)'\n",
    "\n",
    "group 2 covers the first group which will be '(\\d\\d\\d-\\d\\d\\d\\d)'"
   ]
  },
  {
   "cell_type": "markdown",
   "id": "2126b824",
   "metadata": {},
   "source": [
    "====================================================================================================================="
   ]
  },
  {
   "cell_type": "markdown",
   "id": "e6b15cfd",
   "metadata": {},
   "source": [
    "### Question 6\n",
    "In standard expression syntax, parentheses and intervals have distinct meanings. How can you tell a regex that you want it to fit real parentheses and periods?"
   ]
  },
  {
   "cell_type": "markdown",
   "id": "899e4542",
   "metadata": {},
   "source": [
    "### Answer 6\n",
    "In order to fit real parentheses in a regex we can use the escape character like \\( , \\) and for using periods we can use \\.\n",
    "\n",
    "\\W can also be used which returns all non-word characters."
   ]
  },
  {
   "cell_type": "markdown",
   "id": "43c84a71",
   "metadata": {},
   "source": [
    "====================================================================================================================="
   ]
  },
  {
   "cell_type": "markdown",
   "id": "b1ce73ec",
   "metadata": {},
   "source": [
    "### Question 7\n",
    "The findall() method returns a string list or a list of string tuples. What causes it to return one of the two options?"
   ]
  },
  {
   "cell_type": "markdown",
   "id": "ddc1f17f",
   "metadata": {},
   "source": [
    "### Answer 7\n",
    "The findall() methods returns a string list when no groups or 1 group is present in the regex whereas if multiple groups are present then a list of string tuples are returned."
   ]
  },
  {
   "cell_type": "markdown",
   "id": "d9c72e54",
   "metadata": {},
   "source": [
    "====================================================================================================================="
   ]
  },
  {
   "cell_type": "markdown",
   "id": "fae19d4d",
   "metadata": {},
   "source": [
    "### Question 8\n",
    "In standard expressions, what does the | character mean?"
   ]
  },
  {
   "cell_type": "markdown",
   "id": "86bb2f71",
   "metadata": {},
   "source": [
    "### Answer 8\n",
    "The character | is used in order to choose between multiple possible options. It acts like 'or' operator.\n",
    "\n",
    "For example:\n",
    "If pattern is r'A|B'\n",
    "\n",
    "So, this will select A or B"
   ]
  },
  {
   "cell_type": "markdown",
   "id": "c0ae18c9",
   "metadata": {},
   "source": [
    "====================================================================================================================="
   ]
  },
  {
   "cell_type": "markdown",
   "id": "ddb13a60",
   "metadata": {},
   "source": [
    "### Question 9\n",
    "In regular expressions, what does the character stand for?"
   ]
  },
  {
   "cell_type": "markdown",
   "id": "f2a7cb15",
   "metadata": {},
   "source": [
    "### Answer 9\n",
    "Question is not clear, which character is asked?\n",
    "\n",
    "? is a special character which indicates 0 or 1 repetition of any character."
   ]
  },
  {
   "cell_type": "markdown",
   "id": "4cf9e18d",
   "metadata": {},
   "source": [
    "====================================================================================================================="
   ]
  },
  {
   "cell_type": "markdown",
   "id": "f0588c0a",
   "metadata": {},
   "source": [
    "### Question 10\n",
    "In regular expressions, what is the difference between the + and * characters?"
   ]
  },
  {
   "cell_type": "markdown",
   "id": "8af0de89",
   "metadata": {},
   "source": [
    "### Answer 10\n",
    "The + character signifies one or more character repetition whereas * character signifies zero or more character repetitions."
   ]
  },
  {
   "cell_type": "markdown",
   "id": "c47f71a4",
   "metadata": {},
   "source": [
    "====================================================================================================================="
   ]
  },
  {
   "cell_type": "markdown",
   "id": "c608f2e6",
   "metadata": {},
   "source": [
    "### Question 11\n",
    "What is the difference between {4} and {4,5} in regular expression?"
   ]
  },
  {
   "cell_type": "markdown",
   "id": "d83e3000",
   "metadata": {},
   "source": [
    "### Answer 11\n",
    "{4} signifies that exactly 4 number of character occurrences should be present whereas {4,5} signifies 4 to 5 number of characters can be present."
   ]
  },
  {
   "cell_type": "markdown",
   "id": "c260eec3",
   "metadata": {},
   "source": [
    "====================================================================================================================="
   ]
  },
  {
   "cell_type": "markdown",
   "id": "bf15e244",
   "metadata": {},
   "source": [
    "### Question 12\n",
    "What do you mean by the \\d, \\w, and \\s shorthand character classes signify in regular expressions?"
   ]
  },
  {
   "cell_type": "markdown",
   "id": "0cd95143",
   "metadata": {},
   "source": [
    "### Answer 12\n",
    "\\d - matches for any decimal digit [0-9].\n",
    "\n",
    "\\w - Matches for any word character [a-z, A-Z, 0-9].\n",
    "\n",
    "\\s - matches for a whitespace, tab or newline in the string."
   ]
  },
  {
   "cell_type": "markdown",
   "id": "4a0bf861",
   "metadata": {},
   "source": [
    "====================================================================================================================="
   ]
  },
  {
   "cell_type": "markdown",
   "id": "559735d8",
   "metadata": {},
   "source": [
    "### Question 13\n",
    "What do means by \\D, \\W, and \\S shorthand character classes signify in regular expressions?"
   ]
  },
  {
   "cell_type": "markdown",
   "id": "1281acc6",
   "metadata": {},
   "source": [
    "### Answer 13\n",
    "\\D - matches for not a decimal digit.\n",
    "\n",
    "\\W - Matches for any non-word character. That means will match for everything except the word characters [a-z, A-Z, 0-9].\n",
    "\n",
    "\\S - matches for not a whitespace or a tab or a newline."
   ]
  },
  {
   "cell_type": "markdown",
   "id": "767ed9c0",
   "metadata": {},
   "source": [
    "====================================================================================================================="
   ]
  },
  {
   "cell_type": "markdown",
   "id": "22e1b98c",
   "metadata": {},
   "source": [
    "### Question 14\n",
    "What is the difference between .* ? and .* ?"
   ]
  },
  {
   "cell_type": "markdown",
   "id": "4e0cfb79",
   "metadata": {},
   "source": [
    "### Answer 14\n",
    ".* is a greedy approach whereas .*? is the reluctant one."
   ]
  },
  {
   "cell_type": "markdown",
   "id": "463374ae",
   "metadata": {},
   "source": [
    "====================================================================================================================="
   ]
  },
  {
   "cell_type": "markdown",
   "id": "81df44ad",
   "metadata": {},
   "source": [
    "### Question 15\n",
    "What is the syntax for matching both numbers and lowercase letters with a character class?"
   ]
  },
  {
   "cell_type": "markdown",
   "id": "e7202701",
   "metadata": {},
   "source": [
    "### Answer 15\n",
    "We can use [0-9a-z] to match both numbers and lowercase letters."
   ]
  },
  {
   "cell_type": "markdown",
   "id": "688251bc",
   "metadata": {},
   "source": [
    "====================================================================================================================="
   ]
  },
  {
   "cell_type": "markdown",
   "id": "a5819328",
   "metadata": {},
   "source": [
    "### Question 16\n",
    "What is the procedure for making a normal expression in regax case insensitive?"
   ]
  },
  {
   "cell_type": "markdown",
   "id": "69983fd8",
   "metadata": {},
   "source": [
    "### Answer 16\n",
    "we can make use of the flags present in the 're' module. re.IGNORECASE or re.I flag can be used to make a regex case sensitive.\n",
    "This flag can be passed as the second argument in re.compile() method."
   ]
  },
  {
   "cell_type": "markdown",
   "id": "4bc00d86",
   "metadata": {},
   "source": [
    "====================================================================================================================="
   ]
  },
  {
   "cell_type": "markdown",
   "id": "a5045b42",
   "metadata": {},
   "source": [
    "### Question 17\n",
    "What does the . character normally match? What does it match if re.DOTALL is passed as 2nd argument in re.compile()?"
   ]
  },
  {
   "cell_type": "markdown",
   "id": "2d60a725",
   "metadata": {},
   "source": [
    "### Answer 17\n",
    ". character normally matches everything except a newline but if we pass re.DOTALL as 2nd argument then it will match everything including a newline."
   ]
  },
  {
   "cell_type": "markdown",
   "id": "20e61226",
   "metadata": {},
   "source": [
    "====================================================================================================================="
   ]
  },
  {
   "cell_type": "markdown",
   "id": "3b0288f9",
   "metadata": {},
   "source": [
    "### Question 18\n",
    "If numReg = re.compile(r'\\d+'), what will numRegex.sub('X', '11 drummers, 10 pipers, five rings, 4 hen') return?"
   ]
  },
  {
   "cell_type": "markdown",
   "id": "23923950",
   "metadata": {},
   "source": [
    "### Answer 18\n",
    "sub() method can be used to replace certain values in the string.\n",
    "\n",
    "In the above example all the digits will be replaced by X :\n",
    "\n",
    "'X drummers, X pipers, five rings, X hen'"
   ]
  },
  {
   "cell_type": "markdown",
   "id": "731b1db6",
   "metadata": {},
   "source": [
    "====================================================================================================================="
   ]
  },
  {
   "cell_type": "markdown",
   "id": "464700f5",
   "metadata": {},
   "source": [
    "### Question 19\n",
    "What does passing re.VERBOSE as the 2nd argument to re.compile() allow to do?"
   ]
  },
  {
   "cell_type": "markdown",
   "id": "6006f4fa",
   "metadata": {},
   "source": [
    "### Answer 19\n",
    "The VERBOSE flag allows us to write the regular expressions in a more readable form. It will ignore the whitespaces and a long regex can be written in a multi line to make it look more organised and easy to understand."
   ]
  },
  {
   "cell_type": "markdown",
   "id": "ff26d8aa",
   "metadata": {},
   "source": [
    "====================================================================================================================="
   ]
  },
  {
   "cell_type": "markdown",
   "id": "256b36ea",
   "metadata": {},
   "source": [
    "### Question 20\n",
    "How would you write a regex that match a number with comma for every three digits? It must match the given following:"
   ]
  },
  {
   "cell_type": "code",
   "execution_count": null,
   "id": "5ba3f093",
   "metadata": {},
   "outputs": [],
   "source": [
    "\"\"\"\n",
    "'42'\n",
    "'1,234'\n",
    "'6,368,745'\n",
    "\n",
    "\n",
    "but not the following:\n",
    "'12,34,567' (which has only two digits between the commas)\n",
    "'1234' (which lacks commas)\n",
    "\"\"\""
   ]
  },
  {
   "cell_type": "markdown",
   "id": "eb19945e",
   "metadata": {},
   "source": [
    "### Answer 20\n"
   ]
  },
  {
   "cell_type": "code",
   "execution_count": 107,
   "id": "79d4131a",
   "metadata": {},
   "outputs": [
    {
     "name": "stdout",
     "output_type": "stream",
     "text": [
      "42\n",
      "1,234\n",
      "6,368,745\n"
     ]
    }
   ],
   "source": [
    "import re\n",
    "\n",
    "test = ['42','1,234','6,368,745','12,34,567','1234']\n",
    "\n",
    "pattern = re.compile(r'^\\d{1,3}(,\\d{3})*$')\n",
    "for i in test:\n",
    "    match = pattern.finditer(i)\n",
    "    for i in match:\n",
    "        print(i.group(0))"
   ]
  },
  {
   "cell_type": "markdown",
   "id": "96cbbf0a",
   "metadata": {},
   "source": [
    "====================================================================================================================="
   ]
  },
  {
   "cell_type": "markdown",
   "id": "f8a54c26",
   "metadata": {},
   "source": [
    "### Question 21\n",
    "How would you write a regex that matches the full name of someone whose last name is Watanabe? \n",
    "You can assume that the first name that comes before it will always be one word that begins with a capital letter. \n",
    "The regex must match the following:\n"
   ]
  },
  {
   "cell_type": "code",
   "execution_count": null,
   "id": "ecd4cd64",
   "metadata": {},
   "outputs": [],
   "source": [
    "\"\"\"\n",
    "'Haruto Watanabe'\n",
    "'Alice Watanabe'\n",
    "'RoboCop Watanabe'\n",
    "\n",
    "but not the following:\n",
    "\n",
    "'haruto Watanabe' (where the first name is not capitalized)\n",
    "'Mr. Watanabe' (where the preceding word has a nonletter character)\n",
    "'Watanabe' (which has no first name)\n",
    "'Haruto watanabe' (where Watanabe is not capitalized)\n",
    "\"\"\""
   ]
  },
  {
   "cell_type": "markdown",
   "id": "6aad882c",
   "metadata": {},
   "source": [
    "### Answer 21\n"
   ]
  },
  {
   "cell_type": "code",
   "execution_count": 30,
   "id": "79220da2",
   "metadata": {},
   "outputs": [
    {
     "name": "stdout",
     "output_type": "stream",
     "text": [
      "Haruto Watanabe\n",
      "Alice Watanabe\n",
      "RoboCop Watanabe\n"
     ]
    }
   ],
   "source": [
    "import re\n",
    "\n",
    "test = \"\"\"\n",
    "'Haruto Watanabe'\n",
    "'Alice Watanabe'\n",
    "'RoboCop Watanabe'\n",
    "'haruto Watanabe' \n",
    "'Mr. Watanabe'\n",
    "'Watanabe'\n",
    "'Haruto watanabe'\n",
    "\"\"\"\n",
    "pattern = re.compile(r'[A-Z][a-zA-Z]+\\sWatanabe')\n",
    "match = pattern.findall(test)\n",
    "for i in match:\n",
    "    print(i)"
   ]
  },
  {
   "cell_type": "markdown",
   "id": "bbfb8026",
   "metadata": {},
   "source": [
    "====================================================================================================================="
   ]
  },
  {
   "cell_type": "markdown",
   "id": "c46a8fe2",
   "metadata": {},
   "source": [
    "### Question 22\n",
    "How would you write a regex that matches a sentence where the first word is either Alice, Bob, or Carol; \n",
    "the second word is either eats, pets, or throws; the third word is apples, cats, or baseballs; \n",
    "and the sentence ends with a period? This regex should be case-insensitive. It must match the following:"
   ]
  },
  {
   "cell_type": "code",
   "execution_count": 2,
   "id": "2ab836dd",
   "metadata": {},
   "outputs": [],
   "source": [
    "\"\"\"\n",
    "'Alice eats apples.'\n",
    "'Bob pets cats.'\n",
    "'Carol throws baseballs.'\n",
    "'Alice throws Apples.'\n",
    "'BOB EATS CATS.'\n",
    "\n",
    "but not the following:\n",
    "\n",
    "'RoboCop eats apples.'\n",
    "'ALICE THROWS FOOTBALLS.'\n",
    "'Carol eats 7 cats.'\n",
    "\"\"\""
   ]
  },
  {
   "cell_type": "markdown",
   "id": "89a5752c",
   "metadata": {},
   "source": [
    "### Answer 22\n"
   ]
  },
  {
   "cell_type": "code",
   "execution_count": 49,
   "id": "e454f607",
   "metadata": {},
   "outputs": [
    {
     "name": "stdout",
     "output_type": "stream",
     "text": [
      "Alice eats apples.\n",
      "Bob pets cats.\n",
      "Carol throws baseballs.\n",
      "Alice throws Apples.\n",
      "BOB EATS CATS.\n"
     ]
    }
   ],
   "source": [
    "import re\n",
    "\n",
    "test = \"\"\"\n",
    "'Alice eats apples.'\n",
    "'Bob pets cats.'\n",
    "'Carol throws baseballs.'\n",
    "'Alice throws Apples.'\n",
    "'BOB EATS CATS.'\n",
    "'RoboCop eats apples.'\n",
    "'ALICE THROWS FOOTBALLS.'\n",
    "'Carol eats 7 cats.' \n",
    "\"\"\"\n",
    "pattern = re.compile(r'(alice|bob|carol)\\s(eats|pets|throws)\\s(apples|cats|baseballs)\\.',re.I)\n",
    "match = pattern.finditer(test)\n",
    "for i in match:\n",
    "    print(i.group(0))"
   ]
  },
  {
   "cell_type": "markdown",
   "id": "b49e23c5",
   "metadata": {},
   "source": [
    "====================================================================================================================="
   ]
  }
 ],
 "metadata": {
  "kernelspec": {
   "display_name": "Python 3 (ipykernel)",
   "language": "python",
   "name": "python3"
  },
  "language_info": {
   "codemirror_mode": {
    "name": "ipython",
    "version": 3
   },
   "file_extension": ".py",
   "mimetype": "text/x-python",
   "name": "python",
   "nbconvert_exporter": "python",
   "pygments_lexer": "ipython3",
   "version": "3.9.12"
  }
 },
 "nbformat": 4,
 "nbformat_minor": 5
}
