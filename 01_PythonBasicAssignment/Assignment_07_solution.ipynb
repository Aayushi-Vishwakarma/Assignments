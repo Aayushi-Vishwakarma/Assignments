{
 "cells": [
  {
   "cell_type": "markdown",
   "id": "d8bb90d7",
   "metadata": {},
   "source": [
    "### Question 1\n",
    "What is the name of the feature responsible for generating Regex objects?"
   ]
  },
  {
   "cell_type": "markdown",
   "id": "1b8e10f0",
   "metadata": {},
   "source": [
    "### Answer 1\n",
    "In python, there is a module 're' that supports the use of Regular Expressions. Regular expression is a sequence of characters that uses a search pattern to find a string or strings, matching the pattern provided. There are different methods available in 're' module to search the matching pattern. For example, search(), findall(), etc.\n",
    "\n",
    "re.compile() method is used to generate the Regex Object and that object can be used by other functions."
   ]
  },
  {
   "cell_type": "markdown",
   "id": "af306c20",
   "metadata": {},
   "source": [
    "====================================================================================================================="
   ]
  },
  {
   "cell_type": "markdown",
   "id": "8cb8f539",
   "metadata": {},
   "source": [
    "### Question 2\n",
    "Why do raw strings often appear in Regex objects?"
   ]
  },
  {
   "cell_type": "markdown",
   "id": "0d80e1e7",
   "metadata": {},
   "source": [
    "### Answer 2\n",
    "Raw strings are used to give a meaning to the string. The use of backslash ('\\') allows to use a special characters without invoking their special meanings."
   ]
  },
  {
   "cell_type": "markdown",
   "id": "61c2b79a",
   "metadata": {},
   "source": [
    "====================================================================================================================="
   ]
  },
  {
   "cell_type": "markdown",
   "id": "1ca24808",
   "metadata": {},
   "source": [
    "### Question 3\n",
    "What is the return value of the search() method?"
   ]
  },
  {
   "cell_type": "markdown",
   "id": "4b28e7d1",
   "metadata": {},
   "source": [
    "### Answer 3\n",
    "The search() method returns a Match Object."
   ]
  },
  {
   "cell_type": "markdown",
   "id": "0cf9c8c8",
   "metadata": {},
   "source": [
    "====================================================================================================================="
   ]
  },
  {
   "cell_type": "markdown",
   "id": "5488286f",
   "metadata": {},
   "source": [
    "### Question 4\n",
    "From a Match item, how do you get the actual strings that match the pattern?"
   ]
  },
  {
   "cell_type": "markdown",
   "id": "0e9dcabe",
   "metadata": {},
   "source": [
    "### Answer 4\n",
    "From a Match item, we can use group() method to get the actual string. group(0) will return the entire string mtched."
   ]
  },
  {
   "cell_type": "markdown",
   "id": "84d864e2",
   "metadata": {},
   "source": [
    "====================================================================================================================="
   ]
  },
  {
   "cell_type": "markdown",
   "id": "ccbccc3e",
   "metadata": {},
   "source": [
    "### Question 5\n",
    "In the regex which created from the r'(\\d\\d\\d)-(\\d\\d\\d-\\d\\d\\d\\d)', what does group zero cover? Group 2? Group 1?"
   ]
  },
  {
   "cell_type": "markdown",
   "id": "4cf16095",
   "metadata": {},
   "source": [
    "### Answer 5\n",
    "With respect to the above example:\n",
    "\n",
    "group zero covers the entire string which will be '(\\d\\d\\d)-(\\d\\d\\d-\\d\\d\\d\\d)'\n",
    "\n",
    "group 1 covers the first group which will be '(\\d\\d\\d)'\n",
    "\n",
    "group 2 covers the first group which will be '(\\d\\d\\d-\\d\\d\\d\\d)'"
   ]
  },
  {
   "cell_type": "markdown",
   "id": "2126b824",
   "metadata": {},
   "source": [
    "====================================================================================================================="
   ]
  },
  {
   "cell_type": "markdown",
   "id": "e6b15cfd",
   "metadata": {},
   "source": [
    "### Question 6\n",
    "In standard expression syntax, parentheses and intervals have distinct meanings. How can you tell a regex that you want it to fit real parentheses and periods?"
   ]
  },
  {
   "cell_type": "markdown",
   "id": "899e4542",
   "metadata": {},
   "source": [
    "### Answer 6\n",
    "In order to fit real parentheses in a regex we can use the escape character like \\( , \\) and for using periods we can use \\.\n",
    "\n",
    "\\W can also be used which returns all non-word characters."
   ]
  },
  {
   "cell_type": "markdown",
   "id": "43c84a71",
   "metadata": {},
   "source": [
    "====================================================================================================================="
   ]
  },
  {
   "cell_type": "markdown",
   "id": "b1ce73ec",
   "metadata": {},
   "source": [
    "### Question 7\n",
    "The findall() method returns a string list or a list of string tuples. What causes it to return one of the two options?"
   ]
  },
  {
   "cell_type": "markdown",
   "id": "ddc1f17f",
   "metadata": {},
   "source": [
    "### Answer 7\n",
    "The findall() methods returns a string list when no groups or 1 group is present in the regex whereas if multiple groups are present then a list of string tuples are returned."
   ]
  },
  {
   "cell_type": "markdown",
   "id": "d9c72e54",
   "metadata": {},
   "source": [
    "====================================================================================================================="
   ]
  },
  {
   "cell_type": "markdown",
   "id": "fae19d4d",
   "metadata": {},
   "source": [
    "### Question 8\n",
    "In standard expressions, what does the | character mean?"
   ]
  },
  {
   "cell_type": "markdown",
   "id": "86bb2f71",
   "metadata": {},
   "source": [
    "### Answer 8\n",
    "The character | is used in order to choose between multiple possible options. It acts like 'or' operator.\n",
    "\n",
    "For example:\n",
    "If pattern is r'A|B'\n",
    "\n",
    "So, this will select A or B"
   ]
  },
  {
   "cell_type": "markdown",
   "id": "c0ae18c9",
   "metadata": {},
   "source": [
    "====================================================================================================================="
   ]
  },
  {
   "cell_type": "markdown",
   "id": "ddb13a60",
   "metadata": {},
   "source": [
    "### Question 9\n",
    "In regular expressions, what does the character stand for?"
   ]
  },
  {
   "cell_type": "markdown",
   "id": "f2a7cb15",
   "metadata": {},
   "source": [
    "### Answer 9\n",
    "Question is not clear, which character is asked?\n",
    "\n",
    "? is a special character which indicates 0 or 1 repetition of any character."
   ]
  },
  {
   "cell_type": "markdown",
   "id": "4cf9e18d",
   "metadata": {},
   "source": [
    "====================================================================================================================="
   ]
  },
  {
   "cell_type": "markdown",
   "id": "f0588c0a",
   "metadata": {},
   "source": [
    "### Question 10\n",
    "In regular expressions, what is the difference between the + and * characters?"
   ]
  },
  {
   "cell_type": "markdown",
   "id": "8af0de89",
   "metadata": {},
   "source": [
    "### Answer 10\n",
    "The + character signifies one or more character repetition whereas * character signifies zero or more character repetitions."
   ]
  },
  {
   "cell_type": "markdown",
   "id": "c47f71a4",
   "metadata": {},
   "source": [
    "====================================================================================================================="
   ]
  },
  {
   "cell_type": "markdown",
   "id": "c608f2e6",
   "metadata": {},
   "source": [
    "### Question 11\n",
    "What is the difference between {4} and {4,5} in regular expression?"
   ]
  },
  {
   "cell_type": "markdown",
   "id": "d83e3000",
   "metadata": {},
   "source": [
    "### Answer 11\n",
    "{4} signifies that exactly 4 number of character occurrences should be present whereas {4,5} signifies 4 to 5 number of characters can be present."
   ]
  },
  {
   "cell_type": "markdown",
   "id": "c260eec3",
   "metadata": {},
   "source": [
    "====================================================================================================================="
   ]
  },
  {
   "cell_type": "markdown",
   "id": "bf15e244",
   "metadata": {},
   "source": [
    "### Question 12\n",
    "What do you mean by the \\d, \\w, and \\s shorthand character classes signify in regular expressions?"
   ]
  },
  {
   "cell_type": "markdown",
   "id": "0cd95143",
   "metadata": {},
   "source": [
    "### Answer 12\n",
    "\\d - matches for any decimal digit [0-9].\n",
    "\n",
    "\\w - Matches for any word character [a-z, A-Z, 0-9].\n",
    "\n",
    "\\s - matches for a whitespace, tab or newline in the string."
   ]
  },
  {
   "cell_type": "markdown",
   "id": "4a0bf861",
   "metadata": {},
   "source": [
    "====================================================================================================================="
   ]
  },
  {
   "cell_type": "markdown",
   "id": "559735d8",
   "metadata": {},
   "source": [
    "### Question 13\n",
    "What do means by \\D, \\W, and \\S shorthand character classes signify in regular expressions?"
   ]
  },
  {
   "cell_type": "markdown",
   "id": "1281acc6",
   "metadata": {},
   "source": [
    "### Answer 13\n",
    "\\D - matches for not a decimal digit.\n",
    "\n",
    "\\W - Matches for any non-word character. That means will match for everything except the word characters [a-z, A-Z, 0-9].\n",
    "\n",
    "\\S - matches for not a whitespace or a tab or a newline."
   ]
  },
  {
   "cell_type": "markdown",
   "id": "767ed9c0",
   "metadata": {},
   "source": [
    "====================================================================================================================="
   ]
  },
  {
   "cell_type": "code",
   "execution_count": 6,
   "id": "390ca20f",
   "metadata": {},
   "outputs": [
    {
     "data": {
      "image/png": "iVBORw0KGgoAAAANSUhEUgAAAsgAAAEiCAYAAADknCQPAABFdUlEQVR4nO3df2hTZ8MH/G9e9kAHeyCD3XAKDhZxsBQHTbkHPeHxD4900Ig3mNKBKQ407gFN98BtqrC71T9qur3UxBu2doOtmbCRCJNEcDTCfBv/cCTCRlPYaAaTRpjQAxMS2KCBW7jeP05+XElO0qSNts7vB2RLcp1zrvP7m9Mr12URQggQEREREREA4P/Z6QoQEREREe0mDMhERERERBIGZCIiIiIiCQMyEREREZGEAZmIiIiISMKATEREREQkYUAmIiIiIpIwIBMRERERSRiQiYiIiIgkDMhERERERBIGZCIiIiIiCQMyEREREZGEAZmIiIiISMKATEREREQkYUAmIiIiIpIwIBMRERERSRiQiYiIiIgkDMhERERERBIGZCIiIiIiCQMyEREREZGEAZmIiIiISMKATEREREQkYUAmIiIiIpIwIBMRERERSRiQiYiIiIgkDMhERERERBIGZCIiIiIiCQMyEREREZGEAZmIiIiISMKATEREREQkYUAmIiIiIpIwIBMRERERSRiQiYiIiIgkDMhERERERBIGZCIiIiIiCQMyEREREZGEAZmIiIiISMKATEREREQkYUAmIiIiIpIwIBMRERERSRiQiYiIiIgkDMhERERERBIGZCIiIiIiCQMyEREREZGEAZmIiIiISMKATEREREQkYUAmIiIiIpI8GwH5cQHZW2FMnRnBIXUvLBZL6d9eON8+hYlPokg/LO50LZ8q/c48Tn2WMfkkjZnK9rHA8k4U+lOv3RN0P4zDlfUbQfRhpzMoIHGmVzqGZpB+EvUkIiKiZ9auD8j6rRkctr+MPtcpzHwWR/JeTvo0h/TtMEL/NwbnqzYcOhtFtrBTNX069HthTGi96NXGEX70fH0pAHKITk8hsY05FG8H4P3sL/WVgYiIiLpsFwfkItIfHYLDNYXE/XbK60j+ewx9b51C/METrtpOeRiFTz2F0J3nMeAVkL40hrGvt7HufyYx9W7or/VEnYiIiLpu1wbk3DUv3P9Kdh5m7ocxcmwG6T+fRK2eBSomhYAo//vGA2Wnq7RdhSzCJwfgvLidxhBFJKfHEGI6JiIiok3szoD8MIoJT33bWRvcs4tYXd+ohr+NPFaTC/AfrIuA96bg+3caz1sDhL+coo701Qkcsvfh1NXc5uVbzer2FMYuMx0TERHR5nZlQM5cCyIuv6G4EMysInbOBbvSU32/xwr7QS+C36UQOV4bkjMXw0g8qp1v+pL047UmP/DSr41IZSwYudYkVBVySHwyjhHpR4N71RGMf5JArtB6/Qr3EwifP1X3g8Ne9GmHMHImhOi9+mWWfnj36ljtdrnoNKlnBz/SK+pIX5vBqbed2Fsu39uHQycnEL6VQ/PVqF1Gedn6vShmTh5CX6/xfu+bhzH+SRL649bbw5yO6Lu9cJ4MIVlZAQXKVh6H/5lG4DybVhAREVGbxK6TEgEFAqj+c3+1tvlkfywJf910vpv52jlPy5+7ReS3xtmsR921y46uN5TJ3w0IrW5ZNf8UTUx+l2+cudgQy1dcQmk2nfRP/WBJVOeQEoFNylfrWVd2NCIa10CI/HeTrdcBEMpBv4jlzDZ27TLcX6XE4vtq83kNBkTqD7P5tLIuIqPyfFQx+d1y3Xvm+7B+m6cuOKrrdNonvDX1C4hUp1UjIiKiv7Td9wT5QQ7LNY/6fPAesW0+3Usaxs46at6aX8l2tWoAUPxxBq4DU9JTTRN6EjNvuzBzr7aRR/FeCN6zibaeZKY/GsPUt4XtVLWp3LUx2N+eab0OAPQ7IYyoY4g+aF0udd6Nw5+0aB98bwo+0y7p2qMc9COWSyEw1NvxtMXvA/BdKi1b8WD+X2No42giIiKi59juC8h6rrYZwVEn7Nb2JrX3a7Vv/JTr8p/VM5h/f6rab66iYTKxho3/GG2i85kFePeVP0xj6p/zqMbCIlLxqerrfj8Wc1J76v9sYC0xCW2/C77ZCBYzKQSHraXCpR/e/RaBW67OdKoyfexYm20PHsYxdVZudmGD9+MU1jdK9fh9GZF/atUf9ulRjB0LoVW81XUdUFwIJNexIQTEf/JYmlZrt9yVRMt5mOmxehBMrCGbDML9WocTA0bTivdnSstV4Pk4BPeeLcyHiIiIniu7LyDXewF4sc2iPf/98hOtCu4lELxXfen9NIbAsA09Lxivrf1ezH0dQOU59r0gEpXyBegPpHn9zQbbHqk99Qs9sA0HsPTTIubOeeDqr863mzLXAohK3xrcXy1h4X0VlabdrzjgubKI+AXpafy9CYRbPs1W4P8qhsmDCnoA4AUrtAshBOTMrueR7+hXkwrcn0fgH7bB2slkFUWkZ32YWSnN7XgIgdFnvj8PIiIiegp2f0DeRTLpmPTk1Q3tLWtDmZ5BDa7KKx2xdPm5qQLbm1JAuz2Ovv/aC+fJCcxfSyDzoPAUet3IIBmVnuMqAUwcN2tw0AP1XR/k5/Hzd5db1M+LkaGeuvdssB2QX+eg1/1o8kkq3gvBLzWtCE172LSCiIiI2rL7A3JhAxttFi3+kX+CFSkivy43Eohj7FVLTY8Xxj8nZqRSmV/XK71BqMdD8NQ8xMwhfTWEcc9hDNhexosWIzC37kFiG/Qcllek10cdsDcru6+vJiBjJYf1ZmWVF1Efj3fUn2mE/lltCuOeDcDz2k5WiIiIiJ4luy8gK7badra308i0+eQxu5KsfeMNWxcHyahrItGuR9KT4dc8CN9ZgHd/s1oZgfmUay/s2hSS3X7i+rhY+xS49+X2my/c1pu35z5gQ+c/n3tSikj/24+pctOW0QiCpk/JiYiIiMztvoD8mg0DNfkxjPCN+kEicgi7+zB2PozE/YLx1p9JRK7U/gzMbe9mMOqB9ZUuzOUNLxZ+Wkc+u4TIrA/uQfM66ndmcOh8vLtPkl+y1gbZ9Xz78x9SnpER+TJIyiPuXR+r9vFcesI/VVN+Cs7N+rwmIiKi58ruC8hQ4arrri3xv2OY+b5QeV34NoSpG1lEL5/C4ddfxt53Qpj/cKpuGGEXXG+1inRx5EwGCtn4s9D4JgDAit5X5fm5EflNGtK52b8mQz1b39DgOTeHWHoNYiOPtcwiIrNeaHLhq7FNu2LriLUXtn7p9Y0MmnaEd38VNc/j+3fTU2IiIiKiJ2cXBmTAcdQn/dANANKYOjCAkcsJZPUirMNBpDIxBI4aLWhz1ycw/lFtP7zKOT/G9tW8hZ4XaqNq/o/6n53lkLxR10xDYh/0SmE3juQPhfZWaDM9Vtj6XfCcW0DgPfmDIopbGoWuGQecbmkb6FMIfm02hHMR6a/mpYCsYHLYubvaGRMRERE9IbsyIGOfF3PR+ievOcTPH0Zf74uw/NeL2OsYwdSNJs8/FR/C57WGQNe7r7af5NDFABIPSyH5UQbR/xvDqVvNq9VzcAQT/dXX4TNGHQrlEPtnDol/HULfP8YxdTWO9C+1PVMU9SzSN8KYOHkIfdoU4jWfF1FYCWPuC3k9BmBr1W9vehnZxwCKBRQK7fWBoR4L1Hz5iL97CKc+SUMvT/4og+jZw3BfkpqrDAfgPfisxONSn9FN/6UQqCkfQKrTvqSJiIjor+2pjtvXkQ2R+lBra1jm+n/292Ni/T8ms/w9VjfM8Ob/6oea3kgHhNr29KoI/LBhTGgyFHbrf4rwfFM/SPRywzDc5X/Kh8ulMpsPNb0W9bS/XRWPiOTqN2Q7w1nXDxXdzrDQm+nGPOuH7eZQ00RERFRrdz5BBgD0QP1gCam4H659m5eWZT8ZQa99BDM3MtWnuwDwihuTDU+mJYqGQHSutheN+loNTiJy0we1RZnyvCa/S2Dy76Unry9pCNyRR9prOTFcVxIINwxs4YDrvPmS9Y32e1G2HYsgFffXtnc2q8VBPxbTEXaRRkRERM+VXRyQDbajQSxm81hNRhA87YZW0+uDDeqQF/6PI0jlVhF7XwqP9+OYcrsQuFMbHG3HIsj+FEPghFoZOMI26IZvNoJUZgmTBzYfjc92ZA6p35cRm/XBfdBeDdyKHdqQF/4vF7GWXUJgyFozXc8bXixk81hNLGCyYV0U2A9q8J5bwNJvOSz+02Ha5tfxzwRWo36p9wsF9oNe+O09HQ00YjsaxFJuHaloEL5RDfbySih2aCf8WCgN8ex6rYOZEhEREf0FWIQQYqcr0U25GxM4dSZk9P4wvIC1hJcjqBERERFR2/5yARkAoCcxfzGE9dEYAg1DIBMRERERNffXDMhERERERFu069sgExERERE9TQzIREREREQSBmQiIiIiIgkDMhERERGRhAGZiIiIiEjCgExEREREJGFAJiIiIiKSMCATEREREUkYkImIiIiIJAzIREREREQSBmQiIiIiIgkDMhERERGRhAGZiIiIiEjCgExEREREJGFAJiIiIiKSMCATEREREUkYkImIiIiIJAzIREREREQSBmQiIiIiIgkDMhERERGRhAGZiIiIiEjCgExEREREJGFAJiIiIiKSMCATEREREUkYkImIiIiIJAzIREREREQSBmQiIiIiIgkDMhERERGRhAGZiIiIiEjCgExEREREJGFAJiIiIiKS7K6AvBLCgMUCizuKXJMimX8PwGKxwGIZQfRhk0LfTxllzidRBKBfG4HFYsHMvSdUbwB4nEP87Dwy7ZR9GMWIxQLLpfTTqceTXN42lPfLyDW94b36fVX8JYqJf/Sh12KBxWJB378zAIrIXpvA4Td7S8dEH0IrT3UVnlFpzFgssLwThb554S0r/DiPmRtPcgnPsNI52fk1qYDsjRmcUveWjvle9GmnMHMji8ITqGb36Yi+s8n1uwPpS1s8jvUk5s8cRl+vcT2xvO7EyJl5JHm4ElHJ7grI/U6MKABuLCNXNCuQw/KtcvSLI5UpmM4m80MCAOA7MICeJ1DNRjriJ/di5N8FmFb7qdkt9eiyYhKBg2MIfVvEwOlJBGeD8Ks2FO8EoHlCSBQH4LsQRHDWD+drO11ZAgD8OAP7W+NY/ksdiN2mQXmlk/I5RN+1o889hcU/7cYxf2EEtt/CmHL3YeBkvOmDhb+01xRYOyhevDcDZ+8hjH+WhXXYb1xP3iog9dk4DjkOYeYeD1oiAl7Y6QrUckA9DuByBOmfg9D+XvfxwzQStwHtg0koH81g/u4ygke0uhCsI5vOAHDD6bA+pXoDxU6uqXs8iAnPztdjF1KOxSCO1b35MIe0DuDcAmKz1f2d+yINHYD/0xiCQ0/nqxC16TGe6NPpZ1Xmk8OYymoYe7cXdlhRzCUQ/jyO8GM3EldcLYNe7uo4xr7WoRyPIPWlB7bS1dt/0Y/oSSfGro5g/MAaFk/Ynsaq7JxCAhPDceB/3XBZ3cCGjsy1ECLXkrBPL8LX32LaYhKBo1NIQ0XgbgKT/2MtfeDH1JkZuA5MYepoAGouAI2XFKLn2u56gowe9DncAHQsZxufhRQyKcShQPvHGLQhAF+nG5s0FFexfB3AkAvqnidfY3oKHulIAsB/v1jzZUjXkwCAl/+bdzJ6FuSQvZNA4rMJjKljmEEc428fxqnLYaSvZZBtOW0G8Y8TAFwIXKyGYwDACzZ4LgbgApC4lvzrP0X+OYXQvTBCJw/j0P/FgY/G4PRMYP7bBJLZ1l/LCrfjmNEB5YMA/JVwbLD+jx+BDxRAn0Hi7jP+pIGItm2XBWRAecsFDUA8Xd+mrojlu/MAxqD22zEw7AD0GFIrdTNYSSMCwDE8ALPnKPqdeYyX27L29uHwmXmkH5nVpNTW720n9lpatFO7NwOLpRdj1wFgCk6LBRbLDFq29m3WJriQRfzSKRyqtKndC+c745i/ldu8yUS79ahpe9eLvn+MY/77gvk8CzkkPhmvtvF93YmR81FkmxRv6rGO5OVTcL5ubMe9rglEfzFfo9o2yKW2suqU8eFFp1GPQ+/AYrHAedF4e0q1NLRl7qTu6UulbfUojdA7RtvOveophH+u1lG/F8XMyfKxYLT7DN1pvBkb9TfaV+p3QjiltXOsobRfRirbqPfNQzh1OQn9sVnZNKKXTrVXdhMbj9KYP3O4tF574Tw5g/jPJhsJaHObltqYlvZZ3NNb2jf/H0IOCyy9Jsdk+TcDjlDDF97Ct+OwWCwY/1ZeSAG5W9J5bNkL5zsTiDardwflt7z/2mKDJy4gxBoixxWogyowGEDqDwGxPgm11aT6Otb/psI25Ia2z+TzfX1wAsBPepttkdu8vgGV69XINR3QkwidPNTe9UNPIlQ5Z/bi8Pkosn+2VbnW/icAIQQ20gGoigq1X4EnugYhBGLHlJaT5h5koe1XMHbQadL8rgd9bzoBAOuFQhcqSkTPNLHrLItgPwSUgFiueT8lAgoETi+KvBBCpANCAYT2+VpNqbXPNQFA+L/bqLy3HnULAEI9qAkFNqGe8Ivg7KTwDdsEAAHFJxZ/r5mLiBxXBABhG/aJydmgUf6IXSiAgOIRsd9KRX9dFMHZSeHphwBcwjcbFMHZRVFbqzq/RYQbEJhOVd/7IyUCgxCATbhOT4rgbFAEz3mFug9G3a8sN5/fZvUoL29QE5oCYRv0Cv9sUEyedgkbIABF+G7ma+eXWxS+QdRsg0p5xSMiudbVaVyv6nz8x+xCgSo8x4195Y6uV4qX91UgLYQQa2JxNiiCp13Gfhr2Gdvl/w2JS7NB4Rs25us6HRTB2aBYSOe3VPfUNASgCnWwXH5S+I4ExNKGEEJsiOUrrtJ+twvPuaAIzvqFZ79xfKjTKbEhzcuov1v4z7mEUtmXrY41ITbSAaHC2PcNx+ZgQKT+kMpmgsKlGPvMfswvgpXt2Vi2uZQIAAL9LuEahMA+d93xoApfYr12kra3aV6kvqzuM8fxycq+SU0rAnCIYKZ21stXHMa6wi0iv8mfbIilcxCAV8Qq22xNLL6vGuX3uYTvQlAEL/iEa5+xTTzR+jOvs/Jb2X+d2RCpaVVA8Yul/LIIDkIoxyOtrxftzPXupHBAuj621MH1TYjK9cP9T79wKSb73+T6IR/TxjYsnTODHuEZMtvXHcpFhEeBcH2+JtZv+oQCVQTSG5tP19KaiIzC9BgloufPLgzI5ZuiJhZ+ld7OBIVDDlMbS8IPCIxGhBSvROw4BOATi/nqpOXQBbjFXFa+iG6I1AXj5uz6snqLyse9puFHCCHWvjLmVRvM10sX1oBIiTaYBGQj2Cs1wV4IIcQfS8K/zy60I3Nik4jcvB7l5QHC/elqzTpVbqzDC9JNujwfRXg+rytfvvENBtuoz4ZITTtMl5u/W76BtgrIJemAsf+ma7euEWzrym6h7uX5YLQxqGykA8b2GZwUS6ZfomrDQeVYawji1WNNXl+xsSQmFaP8Qv2xOW0EO/Xj1dJbKRHoNwLs5Hd5eeZiLeoRCiCUtgJSKSCjFM7+I31UCh61QXALx0Npn8nruvGd33jvK3krr4nIUQgoilCAuqBV+lIsnePl7ascXxCr8peByhcxtSbcbLV82/uvY3mx+qVXeL8x5rHxQ1B4LiyK9f9sMlkrlX3W3hfXjq9vleuHIjxf1Z4hleuHfB2uHKf119t85ZjedkBeXxSTx4JieUMIIdZF7D2vWPgpv40ZVutmtl2I6PmzCwOyEPmbPoG6m6URIOXQnBeLp+vCsGlort70HLMmka4UvKvhKy8Wz2lC3dfkAm4a1rYfkI2Qtt0nF5sE5H6zUFt6Yi9PU94mNaFZmmLWIQBFTCY3uY2U94fpcjfE0gdK9wPyFupenk/DU3SRF7ETaL6uv8eEt25ZlUA2bXIkmKxH+VjXPl1tLL+xJPz7VKG9ZwT3crBRPlgyuYGX6+qq/WJpqhyQ5SezVWtfumr3y1aOB5OALPKLwlf/lLP0nnYlKPz126203GpYKx+rTdaxVL66fTot3/n+22nVvyi0+wR1C9e38vVDMbu+lY+l6mflL0Km19vyF8LtBuSuqv6VoRtP84nor2HXtUEGAKvDCTeA2Er5Zys60reTQL8LA5X2d1YMHHADmEfyh1Jb0V8ySALQhlSYtUSzv9bb+OYrvUZb5T82Su18rXDNLiH1awyePUCxUEBuJYnkjTBC50/h0Htz3VtRuW5/90FBBhPDh3DqchSJlRyKW2hT2tKbNjRugV70vg4AeWyUNmPuhwQyANzHNNN23A7VBUBH+F7rnxXhZ6M9OI444Wj4sAcD6khH1W/H1uvugO1Va+1bxWWkrgKAF4cPmvwQ8BUHtKMAbiWRqWu3qb1hsvQ9Nrjr3squzANQoL1lbyzfoyH4awpLn3tgQxHL6TAAwOuq77kFAKxwHHQDSCBZX5lmjmpwmHQzZnNocACIZ1ZRRBePB+sAnKMAPktWu3/7JYMYFGgHxjAwCuh3Vys/MsvciSADDZ6DpaXeX0ZiBcDRMfN2uP1OuADoV9PGD946LS9pd//tqAdReIcnkIALwUwSk4Pt/Fh1G9e3IbvJ/rfBNlr7TvbHCADApTae9egZgPNoG9V8aopIXxrD4U/SUN9fROorj+kxTkTPn13WzVvJHhWuISB+dxU5qLAVlpG6DijTtUHL+EFfHJEfswgOOZD7KYUMHAi+ZX6J63u1xQ84Hhg/bjFKFJG9NoWJiyEk7ktl9qlwv24Dfu5+B1bW4SDiszmMnU8gfD4JIwrZoJ5wwzvqw8iwraO+Pk293mv6xcGQg/4IwJ5q7xCFu1GEdJObbj4HB4BMJgsdjubzLHX1pTXZ7ta/mXxh2aat192G3vqw+Eg3wtobWcQuh5AyWZ7RX3cU2QcRyBui5bFWrS1yPwGAE7ZNixegPwAAO7I3QwiZ/Qq01Hl49JccIi32dMV+m3kYKH1pzJTOia4dD1CgDruA69VuHDPpGHSMQd2v4GXVAZxNIqN7YVNKfZ73B6tfisu9mRSSiF5eN/mSkEeuH8DKMrIPAUen5aVeb9rbfzupgPj0GKK6A5N3Y/D3d9KTyxavby2vH9LcH+sAtCbHtBUvd/+037qVefgupoHRCCIfuxiOiahidwZk2NB3QAEuZpAtAL0/JDEPwD9Y90Ri3wBc/UDyzjJyH9iQTccBJQBn//aWnvm3hoGzaSgHvQhOu+F0DMCuWGG19hi9Rdx6EiPS9UA9t4i10zmkv00gdjuC+NU00ldDSF8NYep45Kk/3Uh+MWUEjGdQV+v+Sxyh8/FuzW2bsohfnsBO1KYb29R2wA0NCSQzOUz+/UWjz/LjU+jrMb7wAjNI/RSG+7HR53n9l2IAwJ0wpu50sNBOyz8Tsli+CmDIB+//dNbN4c5c33Yn46EK4H/PzXBMRDV2ZRMLAHAMjgGYR+pnIHMvAsCNAXv9jcAOxxCA2xlkH2WRuQHguGry5/wOFJOInE0D8CF8cwH+Yy6obyjGzeNpeMkG9ZgPwS9TWBMbWE8vwDcI6F/7Eb7zdPrmVBQNADB5V0CIFv++8bR+ovSC8VA1+VuTJ1KPN7pd9e7VHQBeUYyb5tEI1lrNSwhMDm6ptrC9AQAp5Db9o4QVymsA4EYkt8m6XWjZYVjVLznzwTwerZeenNugoMvbtPyl9nYaeukvQ9qB0lPn/U74ACR/zlb6PB8fktblFQUaAFxIta6HMJoPdFz+WfIwZzQLsb6IFzuZ7ilc33peUAAkmx/T/+naorZNf2B81WRf6kRUb9cG5J63NPgApLNxrN7Vmwz80YOBAz4AMWS+XUVSB9yOvu0NL13+s/qoEwMvNX6cuRvbztybyCLsOQTn6xNI1mTgHiiDXvjPGIOnZPXCE1h2I9ubGhQAiXRmezPar8KrAPhisW69DJl0YnvzN9G1ugNATx8GRgHcSCKzrf5vm7M7vAB0JH8wa7+bQ/jtvXC+HUL6cXkQnTiSTYZY79j1FJZN+qXNpo02x75Su+iublM44HQrwPUUUndL7Y/fLD27sxpfeDO3kghX+jyXJt3XB00B8G2qcYAgM52Wf5bs8SDW7pcS2VO4vtkHvVAAhBNJk/7bM0h9u+1FdI16YTtfcInor2zXBuTyzTJ5O4LE7eYDfxg/6NOx+HkYSWhwvbXNtoPlp4bXY0g+qP2o8P0MfOdb3WrXkS9sZaF2DDjySN8PYf5aru6zHNLfxgE44LS3u25brUfJoAeBYSBz3oeZhkEACkhfcsLS24eRq5v8KKtHw8h5FdBnMHU5XTOAQfHeZttyi7pVdwCAAvd7figIw3c2ilz9jyYfRDHWa8FedQrJLQ6AYB3ywK8AyekAog/qansjhKnbOeT+7oDjBUA54oNfAcJnfA1l8TiH6Lu9sLzuxNTtdv/SMI/Av+v2yy9hBKaTQH8AY0NW481tbNOcvt7wXvmvQ4GLpfbH/eVPbMYAQLeDCH4N4LSGgZpvuyo80y5gZQK+S+mGATEK38/AaelF3zvh0o/uOi3/HNjW9a09PQdHMDEI6B9NIVRzvBSRvuTDxMq2F0FE9OR1u1uMbqoOIKDU9XUrWxMLQ6V+bE27E2vSdVhZuQujStdwG2L5w1JfnZWBIcoDBdiE9+Og0bVXXVdyxiAIEOqJSRGcXRQmnXY1LtN0oBC58/7mA1I0Y1oPs+VVt06pa7i6bpdyMeEtDaZgP1KqzwWfcJXqoxxsd1CK6qAEyn5PzYAU6qD6BPpB7rzuxnyadTu1IVIfasYACvtU4T1nDEriP6GWBkmwCe83Ug/S7RxrdevROKhC88E/NtIBoSnyoCK1A8rYTsTa6Kaq1DXXqEd4lMb9AkVr7DKs0+Oh0jWYS/jlQVyEqHb3ZnIelbsIg2m3e0IIsSZiJ2yl46k08EfNIBf1de+s/Fb2X9OtPN3Yz3fXVPombrNryYotXN/aun7U1aPcN3NlQJvyMowBedru5m3L69meJ7qPiOiZtqsDcnm0PMBfGtXMXDlIm/ZdKjoNyEIIkRerUX/l5g/FLlyn58Tir3lRDeR1dfo9JYLlUAN36w77m91w8qsiNu0VWnm5sAl11CfmEmvtd1xvVo+tBGTT+ijCftArAtFUhwMb5MXyl9Xtqex3Cd/HKZG/29hXblcCcod1bx2QS/VKzgnfaDkUG2HZXTkmpHJbDVjrS2LutEvYldIAHvs14Z1dFGtmX0LWl8TcaXclFMvHSd6keKNSQJ5OGcdLOeyXjvOlZlmho+NhwziHynW8YNZveONImGI9JjybDiSRF6vxgPAeLB/npe01HREp07q3X/6vH5CF6Pj6tpWALIQQvy+LhXPlY9r4YjV3N9/W+dad9dwcAzIRNWMRQoguP5QmIiIiInpm7d42yEREREREO4ABmYiIiIhIwoBMRERERCRhQCYiIiIikjAgExERERFJGJCJiIiIiCQMyEREREREEgZkIiIiIiIJAzIRERERkYQBmYiIiIhIwoBMRERERCRhQCYiIiIikjAgExERERFJGJCJiIiIiCQMyEREREREEgZkIiIiIiIJAzIRERERkYQBmYiIiIhIwoBMRERERCRhQCYiIiIikjAgExERERFJGJCJiIiIiCQMyEREREREEgZkIiIiIiIJAzIRERERkYQBmYiIiIhIwoBMRERERCRhQCYiIiIikjAgExERERFJGJCJiIiIiCQMyEREREREEgZkIiIiIiIJAzIRERERkYQBmYiIiIhIwoBMRERERCRhQCYiIiIikjAgExERERFJGJCJiIiIiCQMyEREREREEgZkIiIiIiIJAzIRERERkYQBmYiIiIhIwoBMRERERCRhQCYiIiIikjAgExERERFJGJCJiIiIiCQMyEREREREEgZkIiIiIiIJAzIRERERkYQBmYiIiIhIwoBMRERERCRhQCYiIiIikjAgExERERFJGJCJiIiIiCQMyEREREREEgZkIiIiIiIJAzIRERERkYQBmYiIiIhIwoBMRERERCRhQCYiIiIikjAgExERERFJGJCJiIiIiCQMyEREREREEgZkIiIiIiIJAzIRERERkYQBmYiIiIhIwoBMRERERCRhQCYiIiIikjAgExERERFJGJCJiIiIiCQMyEREREREEgZkIiIiIiIJAzIRERERkeTZCcgrIQxYLLDI/1xh5Ha6XtRS8fYEeiv7bAbpjueQQUiV9vk7UehPoJ5EREREZc9IQC4i+U0Qmfq3b80jvrID1aH2/JlG6GJoW4E298UUJu51rUZEREREm3o2AnIxheRVs5iVQeR2Q2ym3eBxDtEzbkxtJ9zeD2P8fxNdqxIRERFRO56JgFy4FcVMk8eQmSsxJItPtz60CT2BqbedGPt6W8+OEf6/U2A8JiIioqftGQjIBSS/DUuv/Qhe0aov9TCSaSbkXeFRFonLI9jbexgzd7bXUjj3xThO3epSvYiIiIg6sPsD8v0YwlerL5UPXPAd8cBVeUfHzNcJFFrMQr82Iv24r/RDsUIOiU/GMaLuLb2/F86TM4j/3GpOgH4vitCZERx6s1ea51443z6EU+fDSNyvm/5+GIekHxYe+sLkZ4X3ZqQfsjX5IdrDKEakMr2X6n7u1rA+FuxVRzD+SQK5pquUxow0z5FrOvAgjol/9Bn16e3D4TNhZNr6/pHGzN/6cPh8vPrDSUWB0s6k9R5EMcGmFURERLRTxC639rkmAJT+KWIyuSGEWBMLw5Ded4vIb83nsR51S2UDYjETFC5Fnh41y/BE18xqIhbfV5tMUzf956tiQ5puYUj6fHhB1M99+Yqjbh5+sbRRWyZ/01ezjEBa+uxuQGhN1wcCiiYmv8ubrFNKBKRy7k8XhL9+Pib1NVc7LygesZBdrH0PAZHadD5rIjJanUY97RNueR6jEbHeVn2IiIiItmaXP0HOIP5psvpSGcfhgz0AbBh5zyuViyNyu90O3+bgHZ5AomkLAB1Rzwzij+revTaBw5+000mZjuj/ejG/Un5tw8Cwo/rxrQTSD2vLZ9P1PzSMIL0ivy5i+e589aXihdpf+uTHGbgOTCHZqkWDnsTM2y7M3Gv9KDh+5hRC8nwUOwL/GoOt5VSNbKNzWM5G4H3j5Q6nBHJfT2DseunFYADzZ50dz4OIiIhoO3Z3QL6XQHCl+tJx1gW19P/WAy7IETnxcbyxGzhTOnQdUN+PYPl3ASEENn6NwFPTFiCMWE0b2hwWr8arL0fnsPz7BoQwphcbeSx/7oF90Av/lzGksgn4+qV6HxxDNSLHkcoUqh8WlpG6jjo6YjWhOYP019LL4xqcPcb78+9PVfsWVjRMJtaw8R+jXvnMArz7yh+mMfXP+c230eAkFtdL67W+isn/6dlsioqeYT8W0utY+8YHh7XtyaoeRDHxbnk7qwh84oej/cUTERERdcUuDshFJG/OSW1xHRgbkp7EvqLBfVoqvhJBcqXNWQ8vIPKxB45XjJc9+zwIXXHXFNELG/Ir6Lell4oNtlek5NZjheO9CFbTCwiecEN9w4qaXNevYay/+nL+7jLKz3KLPyQxj0aZdLa67ispxKS87h9yGvO/l0BQ6kbN+2kMgWEbel4wXlv7vZj7OlAN5/eCSGzS7Zrv4hRcW2o4rMKfCMI7uKWJAeQQPT+GSjyeDsH/d6ZjIiIievp2b0AuppD4SEqF/WPQ+uUCVmhH/dLrDILfJNHO78ncx7SGZgOKbaDmdVKXnyDbYBuVXn5yGC/39uHwmSmEb6SR1TdbqgNOtxQcv05XnuRmf4xU6zDsQqV/juspLBeM/839kJCe/PqgvWUEx0w6Jn2BcEN7y9qw5J5BreYHjbGG5hwyD7QdemSbuzYFv9S0IvRPFYzHREREtBN2bUAu3IoiJL12vKtJzRQMPQdcmJRyp/5RAqk2EnJPz4sd1kaB+2yg0rzDWFgWic9mcMrtRF/vi6UeH0KI3jNvDKwOjVd7dNBjSK0AQA7LUlOOsX9OwdVffjWP1M8AoCN9W2qHfdoFpxUAisivy2E3jrFX64bitlhgsTgxI5XK/LreosePPvRu9QHwdjyIYupsuecOByYv+6G+tAP1ICIiIsKuDcg6EtfCNe9kzg40hr8XD9UNIBJC9FZh07n3vdp5CuwZnETiuwBc+5oU0LNIfDaBMbUXe0+Gkf2z7vN+Fd7KYjNI/JADHqaRqDTdcGPA7oBjqDpJ4odMQxtl75ATVgBAAfqDjlcDeFRo/pRdwQ48tc0hetGPaGk/Oi7MY6qDds9ERERE3bY7A/L9RUQafrjWnvAXMbTbn0WnrEOTWPx1A+uZGBbOeaHtNw/auaunMPZZXVOGHie049WXydtpZDKpSptbDLmg7unBwAFfpUzm1jIyNW2U5WYUPbC+su1VqnXAht4uz3JTD9OISSPuZS458aL8JejVartkAMD1sUqf0TPbGcaaiIiIqIldGZAz385vfYjhW3Ek73ezNvV6oPS74Z1dwNJP6xB/rGM1HcPCOXdNu+bMlURdjxE9cA5JbaavJzF/oxp9HcMDsAGwOpyo/FzwdhrhG9U2yhgdgban/MKK3pon4W5EfhPVnjWa/fvGs7XBO4iIiIieE7swIGeQ/EqOlpsHv9S0HPkSmL/RXodvXfGSAvugG97ZIAJHpfd1NDRl6HlLQ/X5cFgaIVDBiFpqYb1HhWuoWmb+s+rTVdewWhNu7YNe6XUcyR8K21oVIiIiItqFAbl4J1bT93HtU1Nz6pGJmh/wZa4k0M6QHh3UCoUHGSSuhTD+jhN9784j/UCKv4+LyN0KY+6GNMmorXGADasTrtP1bwLACBxvlP+/bmCRCg3uA7Vz7Dk4gon+6uvwmRFM3cii8Lj0xp85JP51CH3/GMfU1TjSv7Rof7xT9ngQa/XE+7cIajrgG41gvfTZ5OBOVZqIiIj+ynZZQC4idTsM+Xd37qPa5k0C6voZhj6HxTtdjIL3IxizDeCwZwLz19PIfj0Op+3FajvZ/3oRe10zUihXETjvNqm3Fc4hb8O7GHViwFp96VBHGqcd8kBr+IGgA77PpN419CRm3H14+b9K9frvvTj8URLZb+cxc3IETrsLoR93XUQmIiIi2lV2V0B+lEBU7vsYXowNtdNi1gHtXfmpq46Z68kW3Zl1aJ8Xke8mobXVeFeF72YEk00GubC+pdU+EQWgDdU2nUC/irG6MuU2yvV6BicRuemr7YLOjKJh8rtE03oRERERkWFXBeTC3QRqOnc74YLWZk8NjiO+6iAbAPBZHMlH3aubdSiApdw6UtE5+E9odT1Y2KAOueGbjWH59xTmjphF2ZI9GkbkQUfggOutuvI9A9BO15YZO2jW7KK09CNzSP2+jNisD+6D9mrYVuzQhrzwf7mItewSAkPWNtaUiIiI6PlmEUKIna4EEREREdFusaueIBMRERER7TQGZCIiIiIiCQMyEREREZGEAZmIiIiISMKATEREREQkYUAmIiIiIpIwIBMRERERSRiQiYiIiIgkDMhERERERBIGZCIiIiIiCQMyEREREZGEAZmIiIiISMKATEREREQkYUAmIiIiIpIwIBMRERERSRiQiYiIiIgkDMhERERERBIGZCIiIiIiCQMyEREREZGEAZmIiIiISMKATEREREQkYUAmIiIiIpIwIBMRERERSRiQiYiIiIgkDMhERERERBIGZCIiIiIiCQMyEREREZGEAZmIiIiISMKATEREREQkYUAmIiIiIpIwIBMRERERSRiQiYiIiIgkDMhERERERJJnLyA/jGLEYsHMvfYn0a+NwNLhNLQ15W09ck3f6apQyW45/ndLPZ5lxjacQbpZgUIW8Uun4HzdAovFAktvHw6dnEH850Lby0hfssBiGUH0YTdqXFe9H+cxc6P22vAkl/fUlO5LlneieHpXvgIyn8wgvhPb7UEcE59ldmDBRE/PsxeQAQAalFd2ug5ERDtgSIFi9v6DKMbsfRi5uIiC3YfJ2SAmj9qQuzqFkTcHcOp67mnXtNaPM7C/NY7l4s5W468i85EdA/+3jKe+OfU4xmwjCD3ijqS/tmcmIGc+OYzDZ0KIPgTssKKYSyB8/hScZxMobDKtciwGIQQmB59GTYmIuimDeddhjF+OIgc78FIRuVthTJx0YuLbQqlMDuEzY4jqCjxfpbB6cw6Bc34EPl3EWi4Cj5JD+J1xhO9vvjT1goAQMXj2dHk1HuMpPl396ys+3qGt+bj49EM50Q54Yacr0J4csncSSNxIIPFZ6a2348Z/FRuyV1xQd6xuRERP0IMskrcSiN9KYL701qEbxn8VWxbBIyqwEsf8LQDDAQSO22qnf82DwIcRRE8mEL2Tg3df3edERNTgGXmCbIMnLiDEGiLHFaiDKjAYQOoPAbE+uWk4btb2Ub8zj/F3nNhrMdrr9b55CKcuRZF51EHVHutIfjKOEa0PvTXziSNb6GQdC8jemMEpda/RdvB1J05dTkJ/nMZMfdu2Unu3kWtZZK9N4FCv0dbw8L8S1TKFHBKfjOPwm72V+Y2cj7aoUwG5W/MY/0d5PfbC+c4Eos3aLj7Wkbxcbeu41zWB6C+NzxUKN07BYrFg4N9N2quthDBgsWDgcjvt2Urb6O3qPrO87sTImXkk6x+mVLaRjuIvccx4SuvV24fD3SiP0n65lEbh+xBGXi9ts5NhZCuboVRfTd6m45i/0+zJTwfrV1J7DPeiTzuFUNP5l8r/o3bd0m0c74Vvx5u0Lc8h6jbqOl55mlmWQchhgcURQv3e7ageehpRqV1t75uHSudGXbl2zoutHOcdnN+Fn+OYOXkIfb21+y/xYBvP3F7zICYERC4Cj6JCHQTU6RQ2hMD6BePqp/+2jpcHbdCOajCLvza7EwCw+qjJekqatQne+vVSR/QdCyzqFAAg7uk1P5Yem1wDL8WR/bPJXO9FMXOy/WO/wRO5jjbO37xdcmmbmLW9LrUjP9RsmaX5Oi8CQBxjr5rMp4Pj1tjfM0ijgOy1CYy02P7pSxZYXh1DHAAuOo1yl5q2iK9dY5Nr1cyNbONfgKVrMfQkQpXzqRd9/xjH/PcNU5S22zb2FZEZ8czYEKlpVUDxi6X8sggOQijHI2KtjSnXo24BQATS1ffWoh6hAELZ7xH+2aAIzk4K3xG7UAABxScWf29jxn+kRGAQAlCE/ZhfBGeDIjjrF95BmwAgMBgQyxvtrNuaiJ0wpinXZ/K0S9gAoRz3CDcgMBoR6+Xiv0WEGxCOQVUoil14zgVF8JxHeL4qbY3covANQgAQtmGfmJTmB8UjIrnG5S++rxp13ucSvgtBEbzgE659xrp5onVbubLe1fn7j9mFAlV4jmsCgHBHS7XNLwofINAfFMsma7486xCAJhZ+3XwbRY4rNcus3WceEftNKl7aRu4LAeFRpO36nlYqr4lAemPr5UVKBACBQVWosAnX6Uljm00viQ0hhPhjVSyU6ls5xirbFEKdTonaQ6PD9SufD4DAPlV4zzWff/n4Vw9qQoFNqCf8xryHS8dpO8d7afvg9KLIy++X9y8glOlU7TS/LggNEI7Z5S3XYyMTFC6l9hwzjjXj/Er90VjHpufFlo/z9s7vjXRAqPK8Z4PCf0I1zjuoIpjZZBu3UqqLcm5J5DNBoZrVt6kNkbrgEACE72Z+09KpaQjALSLS8ba962VepL4MiuBplwAgHMcnRXA2KBbSeWl5DqEdtAkoduNcmvULz36ltJ3rrx0bYvmKq7Ts0n6WyjeeW0108zpaPj9MrtM171Wsi8ho43YWuYjwlI/3I/K1VVpmPiUWZoPCN2xsN88HQRGcXRCpfGkeHR63xvb3Cv851XR7ytt/7WZQBD/wCAcgMOwz5n1zs+MwL5Y+qDvvpPk33MfL1+J/+oVLMdn2UBqP447veUSbe4YCcl6sfukV3m+MS83GD0HhubAo1v+z+ZQNAXljSfgBgeGFhoC99rlL2AY14W/jRmKEO7MbVfWG5P9u80t1uX4NF4rKxbLJhRcOMXm3fv7lC68iPJ+v1twoKjfwuhtOdfkLYlUOHJULrXxz3xCpaWPd3J/Wzj9/tzR/OSCLDbF0zqhrY0BIiYBivh/q5ePepje/ta+M+mufS3OpbCMI9YOlmlBXqae8HTotXw7IgHB/1bj/lz9UK/WV51UNzrUX+U7XbyM5aQSWFvts7ifjrfL+BdxiLltzRFSOU9eXm+2BNbEwBAFMipoYfHdSAIpQlMYvQcZylcp513E9NlIi0G+sy+R3eSGrBDY5sLc8Lzo9zjs9v0vbR/GLpT/qSn/nF7b9mnB9avYVsU35VbHwnrf0JWlDLM96xGSiMXaZWfuqtK3afKDQEJC7dL0U6UDdtUFeHgT6/XVBe61yLZtMVvfnRjpgBLTBSbFUX97k3Gqqm9fRrgTkNbEwvMnx/n71eDf7IiNE5/elyvYfDFRDdqk+5W0gP1yqrFf9F+Im1r+Rjr+a+3U1OKtXpHOjsl8U6cttaQ3uThr7vmabdn7PI2rHMxSQt64hIJdPwBOx2vDSkWUxd0QT9n0BYXaZKC+z/mbQqBw8vCJm8hSmEirMLrxmT2UzwdK3e/PQWb54Vm84yyLYDwG4zJ/iluanfFB6Mlq+WZo+Ed4QSx8oDetdDnPlJ4kV6YBQ2tpGebF4ThPqvsabQXk+qL9gl7eRMimWGrJSuZ5K4zHRbvlKQPaJxXx9dctPzQMiZfb96NcF4QIEhsr7qNP1y4vF0xCAJuayjcU3vvML26AmvKUbZPkYatj+QlSPlzZudstXHA1fdIz3/CJ4Rau7WZfr6K9sz07rUf7SUDn2auRF7ETdcdvqvOj0OO/4/C4dD03+UrIzpCet9U/bW2gIXl25XopNA7I33jj3/E1f3TTl/V4bmit+jwlvi+tfjW5eR7sRkMvLfH/R5HhfEwvDdqENBUWqFDLNA3Ln96Xy9je7DpvexzoKyOXzrsm1bWNJTCq114nqtdhsHcrXXemzju95RO15Rtogd9keB7RBAFdHMPDOBMI30sh23GWNA76bS1j9dRIqiigUdGTvJZG4No+pMyNwX4y3Nxs9g+RtAKManCZd1ynqCNzNplXtDe0Ncz8kkAHgPmbeFtGhugDoCN/LGm/cX0ZiBcDRMWj7TCbod8IFQL+aRhYAfk4jAgBHnHA0FO7BgDrS+K6qwasAmWiypi1q+vYcdHgxNmTaaZXECtfsElK/Gr+sLxYKyK0kkbwRRuj8KRx6b675pO8dhtbTWE/nwTEAOpI/5bZXvt+GXmtd8fsZxADgiAa1YV4A9mkYOwrgdhIZfSvrl0XmMwCKBucbjbPvGQpiLb2EhWO1R4D9td7Gwq/0GsfJHxub/jLdoY5AQQaJH8rbQEc2nQGOOzGmalAQx3K5AXYhZfyg9pwLzrpt0F49ilhOhwEAXpeGxs1oheOgG0ACyUxdC0+T86Lj47zj89sOx/sKsDIBl3YKoWsJZLbT7rgLcte8cJ1NAEeCWL49CfWlLc6oK9fLzSiwvWpteNf6N+NYKfy5YbxRXEbqKgB4cfigycn1igPaUQC3yudWG7pxHe0CPZtCBoDnwIDJ8W6DN7GKpe/8UFv+tH6r9yUFA683XocV28BWVqVKz2F5BcDREahmvaL0aDj8HgBEkP657rMhk/MYNthGa9/ZiX1Fz4dnpBeLbrPDdy2GzBEfwtdDOHU9BABQ9rsw8u4Yxo57oG6W2QAABaQv++C9EkVWuhgr+zUMvOoA7meaT1r2MIskALxpM+/b9DUb7M2m7X0Z1rq3dD1p1OxuFCHd5AaSz8EBIJPJQocDyiPdWH4hiejldZMLcx65fgAry8g+BBylrpq0V803UPmGVqNHw+EzCmYuRpBc8cPRD6CYxOKnOnDOA1dbfVoXkb02hYmLISTkrqr2qXC/bgN+Nr8buk0u+gDQ898vAwCSug5Il9VOy+P1XtSvcWF9HXqLeQG9UPYBgI585QcwHazfwxyWAeCArWHZrfQ12WcAgAc6CoD5MVjWr8KrADN3M9Dfs0EpLCN1HdA+d0B5owcjACI/ZhEccqD4QxLzAHwmN/v26lGA/gAA7MjeDCFk9jugnBHSor/kEJFrbnJeoNPjfA/Q2flthevDOIL3xzBxK4yJO0a4xz4V3qNeuP93BK59DbV6ch7FMeOJQu+fRCrqh2Or4RhA966XrThhazGPynn3SEcOAN7IInY5hJRJWeOwiCL7ILLJAV3SjetoG4vZTO6+EV5bnh9t2cp9qfX23zI9Z3zh3G8zDa8AoLyqAUginy8C8pn5em9b23Un9hU9H57TgAzgNTcWfnIh+EsSsWgC8RsxJH5OYP58AvPn5xBIJzE5aPb4r6yAxBk7Dn+mwzbqx8IxFwYcA7C9YoX1JaPnjN47bQTkJ9Q3aPKLKSMQtOtOGFN3nkBFStQjE3BcnEDkdgb+fgeK6STCuoLJYadJWGmU+beGgbNpKAe9CE674XQMwK5YYbX2APdmYLnV5JfUL7zYWUU7Lb8tVrxYOgO3vH5PU48T2nFg5nIKq5+7ofySQQwKxh02wAo4jwLzd5aR+8AB/V4EgBtOh3WbC80ifnkCbf49ZnNtH+dbOL9fUuFPrMH3II34tzEko3GE76URvpxG+PIUPNEUIseaxYQu+2UZYQDaGe/WnxzLtn297LJf4gid79pR0VTH19Ed16X70g7oeXF7x8+zt69ot3s+m1hU9MD6hgve6Tks/rQO8fsqFj90QUEaU9MR5FpNej+G0Gc6MDSHxW+C8B7V4HjNuAh1ZI/NaELxU848KD8ofQNvk6JoAIDJuwJCtPj3jcf4Jv2KAg0ALqRaly8PHPCC8VAm+VuTWP94w/z9fg1j/eVmFkWkboehK+PmfyatV0wicjYNwIfwzQX4j7mgvqEY4XET8fvme7Hw+zoAQFNqnyd0Wt6Mtdd48hH/tdlXn3XkVgCgBz096Hz99pT+qnA3h/VNa9NNPRg44AMQQXoFyKRj0DEGdT8A2GA/4ABuZ5AtZJCK68DoCLQtDzZhhfIaALgRyW1yLF9ooxf0To/zbZzfPa+p8LwfxEJ6DWJjHakvfVChI3o2jORTanWh/2ZcNawvdfML3zaul93yimI8iTwawVrL/bi9gaE6vo52gfKa0Zhutdm1tR3dui91i1K6Vv2ca3J8FJH7NQlAwVbz8U7sK3o+PJcBuXh7Coe0Phz+ou6UfcUO1wdT8ALALb31k93yn2wPDJg0gSggdbvNpxt77HD2A7ieRMqkP9FCJtnR0zPbmxoUAIl0m08J9vVBUwB8m2roq9bUfuPP7Phi0fRmn0knmkzogPuMBqxEkFzJIH1Vh+NsmwO8lP+sOurEgMmFPnM31nzauNl6FbGcjgFwwPWWbXvlzexzYAQAvk0ibRaI7icRvw2gf8D4s2bH62fHwAkAehKpX8zmH8ah1504dLn7T52tDifc0BFLJ4z2x6MD6Cvd2Oz7NQDzSF5NIrECaEPqNm5IPehzuAHEkcwUtl/xTo/zTs/vX8IYe9uJveeTtW25exSoJ/wYPwpAz0LvpI/1bSiPHho7tv1I0JXrZbf09GFgFMCNZGf91Xeo4+uomT02DADAr+uNX2SLq1i+Xr9M43cd0btmw0cXkTxv9B0cfdBimd26L3WLYsNAP4AbMaTr+3sGgGIKya8BYAQOs98GtKEr+4rIxHMZkHscA7DdySLxaRjJQu1nxe8XkQCA047mbX+B6hOp+CLSdR3Z5772wXe13do4MHbeDSCMwGzdsNkPovCdCbc7I8OgB4FhIHPeh5mGDtULSF9ywtLbh5Gr5efSKjzTLmBlAr5L6YZO2wvfz8Bp6UXfO2HjSXaPhpHzKqDPYOpybfnivRn4zje/SNkOeuBCBokPg4jpGnxHG3/mZ6r81Oh6DMkHjfVrtUysBBH8Iltzwyl8H8LURzowOoGx/m2WN2PV4P1QBVam4K/bRvgzi/D0FBJQ4PnXmPFDx47XzwrXMT8UJBH4MIpczYAZBcSvTCF5Pwf1721u307sUeEaAjJfTSF4vTYE97ylwQcgMhtEst0vEy0oR3zwK0D4jK8xFDzOIfpuLyyvOzF1u53Hsh0e552e328MYOD3NHKX5xGpr+uDNGI3APQ7Ye/28M1PQVeul5Kcvp2/eyhwv+eHgjB8Z+uPfQAPohjrtWCvOoVkkwFG2tLxddS8rsowgJUYEvdqrihIX55CqL54vxu+YQCfBBCqW2ZxZR6hyzqyPSrU1+RPcliXvyh07b7UhvV84yAfDRwY+5cHCuLw/6vxWpWcnsKMDqgfeqFZt1iPruwrIhPd7hajG1p1O7MVrQYKqXaM3mnH4usiVhrYoaHzc0UTkx9PCq3trnCqg0RUOuI/5xF2BUIZVI0ubMz6e20271xMePfVdjYfvOATrnLH7Afru3ySByopr4s8EED9IBmN9S1vO3VQbbHvyv18ttkNU0W1X+Hq/ioPMGET3o+DRtdOZl0sDapCRf2AJhDY5xWxnLSITsuXuxsy7cJJbD5QSE1fy1tYv5qBQho73zcbKKSmL9P69W62HiaMrt1M+ketdFlo3nXWVuqxkQ4ITYFAZWCRoAie8wq1tB1tJ2LV42jT7qc6Oc47P78rfa6WB46RzmNArTuHmil3Y9WkW6w2VbqHbLOv2poatBgoZOvXSyF13+US/oaBQjrowlFsiNSHpQF8yoPk1AzKYhPeb9q4unTzOtrk+M3f9Bn1rBwT5WPIIwIX3I3rLQ8UUhrko9l2rvTrfcRvDBTyuxBbOW7b2f611/NS//VQhfdCUARvrm6yoTcbKKSuX/KW+6XcPV5dF3Ad3vO2c37Q8+O5DchCCLGenBO+0fJFFULZrwnvdEQstzOKnhBC/GddLM1Wb9bYpwrvdESk1kW1v+ChdoNgXix/6a+e0PtdwvdxSuRzJheLdvqhzK+K2LRXaOXRkKAI+0GvCERTTQZXyYvVeEB4D5bCgrQ9Uqa7oUl975r3dVrWfv/QJvWLVpdnjLg1JxZ/zYtqMDPpS3M6JfI/RYS/HIL2qcI7HROr+brZd1p+s4BcrnPNNrUJddQn5pJmU3S4fiXryblqwCvt42BiraYf1W4H5HL/1Wb1Wf6wdDyYHJtbrsf6kpg77a6eZ+XtmFir7Ze3rf5ZOzjOt3B+53+KicAJrRSKjWncp+fEYq7dPlh3Z0AWogvXS7FhHOPl7Xkh1XJ5QogmAdm8PpVt/Wu+vep08zra4vjN35XO0dJ5nfq9vI9M1ru0TPm4c59baNzOf6yKyDlXZf0n75be7/C47TwgC5G/G6yOtHe0zRFta/ZXaTvGVxv71t5KQBaio3seAzK1wyKEENt/Dk1PzL0Z9KpT6Pt8DUvvPaVfwD9BuauHsfdkL2K/L8DdVvduW/QwipFXxxCfTrX3I65OyxMREdFf1nPZBnl30RF9pxd92kxjm7nHOUQ/nYMOddvtOXeFQgLz/0pA+aDdvo+JiIiInr7ntx/kXUOBNqrB/84UDjkW4T06AvvfAPyeRexGGOn7ClxX5uHr3+l6bpWO+JkxzN8H1n9KIgsPYmfMRkYjIiIi2h0YkHcBZTSCTPowwp+HEfl6AmEdgGKHNhxA5GsvPIPPcu+NCmyvr2P1syyw34O5r8NwP4O/5CciIqLnB9sgExERERFJ2AaZiIiIiEjCgExEREREJGFAJiIiIiKSMCATEREREUkYkImIiIiIJAzIREREREQSBmQiIiIiIgkDMhERERGRhAGZiIiIiEjCgExEREREJGFAJiIiIiKSMCATEREREUkYkImIiIiIJAzIREREREQSBmQiIiIiIgkDMhERERGRhAGZiIiIiEjCgExEREREJGFAJiIiIiKSMCATEREREUkYkImIiIiIJAzIREREREQSBmQiIiIiIsn/D4VMUvvjZxdZAAAAAElFTkSuQmCC\n",
      "text/plain": [
       "<PIL.PngImagePlugin.PngImageFile image mode=RGBA size=712x290 at 0x281CDA9DCD0>"
      ]
     },
     "metadata": {},
     "output_type": "display_data"
    }
   ],
   "source": [

    "from PIL import Image\n",
    "file = \"C:\\\\Users\\\\aayus\\\\iNeuron\\\\Python\\\\Files\\\\question14.png\"\n",
    "img = Image.open(file,'r')\n",
    "display(img)"
=======
    "### Answer 14\n",
    "'.*' is a greedy approach whereas '.*?' is the reluctant one."

   ]
  },
  {
   "cell_type": "markdown",
   "id": "463374ae",
   "metadata": {},
   "source": [
    "====================================================================================================================="
   ]
  },
  {
   "cell_type": "markdown",
   "id": "81df44ad",
   "metadata": {},
   "source": [
    "### Question 15\n",
    "What is the syntax for matching both numbers and lowercase letters with a character class?"
   ]
  },
  {
   "cell_type": "markdown",
   "id": "e7202701",
   "metadata": {},
   "source": [
    "### Answer 15\n",
    "We can use [0-9a-z] to match both numbers and lowercase letters."
   ]
  },
  {
   "cell_type": "markdown",
   "id": "688251bc",
   "metadata": {},
   "source": [
    "====================================================================================================================="
   ]
  },
  {
   "cell_type": "markdown",
   "id": "a5819328",
   "metadata": {},
   "source": [
    "### Question 16\n",
    "What is the procedure for making a normal expression in regax case insensitive?"
   ]
  },
  {
   "cell_type": "markdown",
   "id": "69983fd8",
   "metadata": {},
   "source": [
    "### Answer 16\n",
    "we can make use of the flags present in the 're' module. re.IGNORECASE or re.I flag can be used to make a regex case sensitive.\n",
    "This flag can be passed as the second argument in re.compile() method."
   ]
  },
  {
   "cell_type": "markdown",
   "id": "4bc00d86",
   "metadata": {},
   "source": [
    "====================================================================================================================="
   ]
  },
  {
   "cell_type": "markdown",
   "id": "a5045b42",
   "metadata": {},
   "source": [
    "### Question 17\n",
    "What does the . character normally match? What does it match if re.DOTALL is passed as 2nd argument in re.compile()?"
   ]
  },
  {
   "cell_type": "markdown",
   "id": "2d60a725",
   "metadata": {},
   "source": [
    "### Answer 17\n",
    ". character normally matches everything except a newline but if we pass re.DOTALL as 2nd argument then it will match everything including a newline."
   ]
  },
  {
   "cell_type": "markdown",
   "id": "20e61226",
   "metadata": {},
   "source": [
    "====================================================================================================================="
   ]
  },
  {
   "cell_type": "markdown",
   "id": "3b0288f9",
   "metadata": {},
   "source": [
    "### Question 18\n",
    "If numReg = re.compile(r'\\d+'), what will numRegex.sub('X', '11 drummers, 10 pipers, five rings, 4 hen') return?"
   ]
  },
  {
   "cell_type": "markdown",
   "id": "23923950",
   "metadata": {},
   "source": [
    "### Answer 18\n",
    "sub() method can be used to replace certain values in the string.\n",
    "\n",
    "In the above example all the digits will be replaced by X :\n",
    "\n",
    "'X drummers, X pipers, five rings, X hen'"
   ]
  },
  {
   "cell_type": "markdown",
   "id": "731b1db6",
   "metadata": {},
   "source": [
    "====================================================================================================================="
   ]
  },
  {
   "cell_type": "markdown",
   "id": "464700f5",
   "metadata": {},
   "source": [
    "### Question 19\n",
    "What does passing re.VERBOSE as the 2nd argument to re.compile() allow to do?"
   ]
  },
  {
   "cell_type": "markdown",
   "id": "6006f4fa",
   "metadata": {},
   "source": [
    "### Answer 19\n",
    "The VERBOSE flag allows us to write the regular expressions in a more readable form. It will ignore the whitespaces and a long regex can be written in a multi line to make it look more organised and easy to understand."
   ]
  },
  {
   "cell_type": "markdown",
   "id": "ff26d8aa",
   "metadata": {},
   "source": [
    "====================================================================================================================="
   ]
  },
  {
   "cell_type": "markdown",
   "id": "256b36ea",
   "metadata": {},
   "source": [
    "### Question 20\n",
    "How would you write a regex that match a number with comma for every three digits? It must match the given following:"
   ]
  },
  {
   "cell_type": "code",
   "execution_count": null,
   "id": "5ba3f093",
   "metadata": {},
   "outputs": [],
   "source": [
    "\"\"\"\n",
    "'42'\n",
    "'1,234'\n",
    "'6,368,745'\n",
    "\n",
    "\n",
    "but not the following:\n",
    "'12,34,567' (which has only two digits between the commas)\n",
    "'1234' (which lacks commas)\n",
    "\"\"\""
   ]
  },
  {
   "cell_type": "markdown",
   "id": "eb19945e",
   "metadata": {},
   "source": [
    "### Answer 20\n"
   ]
  },
  {
   "cell_type": "code",
   "execution_count": 107,
   "id": "79d4131a",
   "metadata": {},
   "outputs": [
    {
     "name": "stdout",
     "output_type": "stream",
     "text": [
      "42\n",
      "1,234\n",
      "6,368,745\n"
     ]
    }
   ],
   "source": [
    "import re\n",
    "\n",
    "test = ['42','1,234','6,368,745','12,34,567','1234']\n",
    "\n",
    "pattern = re.compile(r'^\\d{1,3}(,\\d{3})*$')\n",
    "for i in test:\n",
    "    match = pattern.finditer(i)\n",
    "    for i in match:\n",
    "        print(i.group(0))"
   ]
  },
  {
   "cell_type": "markdown",
   "id": "96cbbf0a",
   "metadata": {},
   "source": [
    "====================================================================================================================="
   ]
  },
  {
   "cell_type": "markdown",
   "id": "f8a54c26",
   "metadata": {},
   "source": [
    "### Question 21\n",
    "How would you write a regex that matches the full name of someone whose last name is Watanabe? \n",
    "You can assume that the first name that comes before it will always be one word that begins with a capital letter. \n",
    "The regex must match the following:\n"
   ]
  },
  {
   "cell_type": "code",
   "execution_count": null,
   "id": "ecd4cd64",
   "metadata": {},
   "outputs": [],
   "source": [
    "\"\"\"\n",
    "'Haruto Watanabe'\n",
    "'Alice Watanabe'\n",
    "'RoboCop Watanabe'\n",
    "\n",
    "but not the following:\n",
    "\n",
    "'haruto Watanabe' (where the first name is not capitalized)\n",
    "'Mr. Watanabe' (where the preceding word has a nonletter character)\n",
    "'Watanabe' (which has no first name)\n",
    "'Haruto watanabe' (where Watanabe is not capitalized)\n",
    "\"\"\""
   ]
  },
  {
   "cell_type": "markdown",
   "id": "6aad882c",
   "metadata": {},
   "source": [
    "### Answer 21\n"
   ]
  },
  {
   "cell_type": "code",
   "execution_count": 30,
   "id": "79220da2",
   "metadata": {},
   "outputs": [
    {
     "name": "stdout",
     "output_type": "stream",
     "text": [
      "Haruto Watanabe\n",
      "Alice Watanabe\n",
      "RoboCop Watanabe\n"
     ]
    }
   ],
   "source": [
    "import re\n",
    "\n",
    "test = \"\"\"\n",
    "'Haruto Watanabe'\n",
    "'Alice Watanabe'\n",
    "'RoboCop Watanabe'\n",
    "'haruto Watanabe' \n",
    "'Mr. Watanabe'\n",
    "'Watanabe'\n",
    "'Haruto watanabe'\n",
    "\"\"\"\n",
    "pattern = re.compile(r'[A-Z][a-zA-Z]+\\sWatanabe')\n",
    "match = pattern.findall(test)\n",
    "for i in match:\n",
    "    print(i)"
   ]
  },
  {
   "cell_type": "markdown",
   "id": "bbfb8026",
   "metadata": {},
   "source": [
    "====================================================================================================================="
   ]
  },
  {
   "cell_type": "markdown",
   "id": "c46a8fe2",
   "metadata": {},
   "source": [
    "### Question 22\n",
    "How would you write a regex that matches a sentence where the first word is either Alice, Bob, or Carol; \n",
    "the second word is either eats, pets, or throws; the third word is apples, cats, or baseballs; \n",
    "and the sentence ends with a period? This regex should be case-insensitive. It must match the following:"
   ]
  },
  {
   "cell_type": "code",
   "execution_count": 2,
   "id": "2ab836dd",
   "metadata": {},
   "outputs": [],
   "source": [
    "\"\"\"\n",
    "'Alice eats apples.'\n",
    "'Bob pets cats.'\n",
    "'Carol throws baseballs.'\n",
    "'Alice throws Apples.'\n",
    "'BOB EATS CATS.'\n",
    "\n",
    "but not the following:\n",
    "\n",
    "'RoboCop eats apples.'\n",
    "'ALICE THROWS FOOTBALLS.'\n",
    "'Carol eats 7 cats.'\n",
    "\"\"\""
   ]
  },
  {
   "cell_type": "markdown",
   "id": "89a5752c",
   "metadata": {},
   "source": [
    "### Answer 22\n"
   ]
  },
  {
   "cell_type": "code",
   "execution_count": 49,
   "id": "e454f607",
   "metadata": {},
   "outputs": [
    {
     "name": "stdout",
     "output_type": "stream",
     "text": [
      "Alice eats apples.\n",
      "Bob pets cats.\n",
      "Carol throws baseballs.\n",
      "Alice throws Apples.\n",
      "BOB EATS CATS.\n"
     ]
    }
   ],
   "source": [
    "import re\n",
    "\n",
    "test = \"\"\"\n",
    "'Alice eats apples.'\n",
    "'Bob pets cats.'\n",
    "'Carol throws baseballs.'\n",
    "'Alice throws Apples.'\n",
    "'BOB EATS CATS.'\n",
    "'RoboCop eats apples.'\n",
    "'ALICE THROWS FOOTBALLS.'\n",
    "'Carol eats 7 cats.' \n",
    "\"\"\"\n",
    "pattern = re.compile(r'(alice|bob|carol)\\s(eats|pets|throws)\\s(apples|cats|baseballs)\\.',re.I)\n",
    "match = pattern.finditer(test)\n",
    "for i in match:\n",
    "    print(i.group(0))"
   ]
  },
  {
   "cell_type": "markdown",
   "id": "b49e23c5",
   "metadata": {},
   "source": [
    "====================================================================================================================="
   ]
  }
 ],
 "metadata": {
  "kernelspec": {
   "display_name": "Python 3 (ipykernel)",
   "language": "python",
   "name": "python3"
  },
  "language_info": {
   "codemirror_mode": {
    "name": "ipython",
    "version": 3
   },
   "file_extension": ".py",
   "mimetype": "text/x-python",
   "name": "python",
   "nbconvert_exporter": "python",
   "pygments_lexer": "ipython3",
   "version": "3.9.12"
  }
 },
 "nbformat": 4,
 "nbformat_minor": 5
}
