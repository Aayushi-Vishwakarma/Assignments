{
 "cells": [
  {
   "cell_type": "markdown",
   "id": "d8bb90d7",
   "metadata": {},
   "source": [
    "### Question 1\n",
    "What are the two values of the Boolean data type? How do you write them?"
   ]
  },
  {
   "cell_type": "markdown",
   "id": "1b8e10f0",
   "metadata": {},
   "source": [
    "### Answer 1\n",
    "The two values of a Boolean data types are True and False"
   ]
  },
  {
   "cell_type": "markdown",
   "id": "af306c20",
   "metadata": {},
   "source": [
    "====================================================================================================================="
   ]
  },
  {
   "cell_type": "markdown",
   "id": "8cb8f539",
   "metadata": {},
   "source": [
    "### Question 2\n",
    "What are the three different types of Boolean operators?"
   ]
  },
  {
   "cell_type": "markdown",
   "id": "0d80e1e7",
   "metadata": {},
   "source": [
    "### Answer 2\n",
    "The three types of Boolean operators in python are:\n",
    "\n",
    "and , or , not"
   ]
  },
  {
   "cell_type": "markdown",
   "id": "61c2b79a",
   "metadata": {},
   "source": [
    "====================================================================================================================="
   ]
  },
  {
   "cell_type": "markdown",
   "id": "1ca24808",
   "metadata": {},
   "source": [
    "### Question 3\n",
    "Make a list of each Boolean operator's truth tables (i.e. every possible combination of Boolean values for the operator and what it evaluate )."
   ]
  },
  {
   "cell_type": "markdown",
   "id": "4b28e7d1",
   "metadata": {},
   "source": [
    "### Answer 3\n",
    "Boolean operators are as below:\n",
    "\n",
    "The 'not' operator,\n",
    "\n",
    "The 'and' operator,\n",
    "\n",
    "The 'or' operator\n",
    "\n",
    "Truth table for these operators are shown below:"
   ]
  },
  {
   "cell_type": "code",
   "execution_count": null,
   "id": "bff3c701",
   "metadata": {},
   "outputs": [],
   "source": [
    "\"\"\"\n",
    "----------------------------------------\n",
    "The 'not' operator Truth Table\n",
    "A            not A\n",
    "----------------------------------------\n",
    "True         False\n",
    "False        True\n",
    "----------------------------------------\n",
    "----------------------------------------\n",
    "The 'and' operator  Truth Table\n",
    "A            B              A and B\n",
    "----------------------------------------\n",
    "True         True           True\n",
    "True         False          False\n",
    "False        True           False\n",
    "False        False          False\n",
    "----------------------------------------\n",
    "----------------------------------------\n",
    "The 'or' operator  Truth Table\n",
    "A            B              A or B\n",
    "----------------------------------------\n",
    "True         True           True\n",
    "True         False          True\n",
    "False        True           True\n",
    "False        False          True\n",
    "----------------------------------------\n",
    "\"\"\""
   ]
  },
  {
   "cell_type": "markdown",
   "id": "0cf9c8c8",
   "metadata": {},
   "source": [
    "====================================================================================================================="
   ]
  },
  {
   "cell_type": "markdown",
   "id": "5488286f",
   "metadata": {},
   "source": [
    "### Question 4"
   ]
  },
  {
   "cell_type": "code",
   "execution_count": null,
   "id": "ee9fb1d4",
   "metadata": {},
   "outputs": [],
   "source": [
    "\"\"\"\n",
    "What are the values of the following expressions?\n",
    "(5 > 4) and (3 == 5)\n",
    "not (5 > 4)\n",
    "(5 > 4) or (3 == 5)\n",
    "not ((5 > 4) or (3 == 5))\n",
    "(True and True) and (True == False)\n",
    "(not False) or (not True)\n",
    "\"\"\""
   ]
  },
  {
   "cell_type": "markdown",
   "id": "0e9dcabe",
   "metadata": {},
   "source": [
    "### Answer 4\n",
    "(5 > 4) and (3 == 5) : This will result in False\n",
    "\n",
    "not (5 > 4) : This will result in False\n",
    "\n",
    "(5 > 4) or (3 == 5) : This will result in True\n",
    "\n",
    "not ((5 > 4) or (3 == 5)) : This will result in False\n",
    "\n",
    "(True and True) and (True == False) : This will result in False\n",
    "\n",
    "(not False) or (not True) : This will result in True"
   ]
  },
  {
   "cell_type": "markdown",
   "id": "84d864e2",
   "metadata": {},
   "source": [
    "====================================================================================================================="
   ]
  },
  {
   "cell_type": "markdown",
   "id": "ccbccc3e",
   "metadata": {},
   "source": [
    "### Question 5\n",
    "What are the six comparison operators?"
   ]
  },
  {
   "cell_type": "markdown",
   "id": "4cf16095",
   "metadata": {},
   "source": [
    "### Answer 5\n",
    "The six comparison operators are :\n",
    "\n",
    "Equal : ==\n",
    "\n",
    "Not Equal : !=\n",
    "\n",
    "Greater than : >\n",
    "\n",
    "Less than : <\n",
    "\n",
    "Greater than or equal to : >=\n",
    "\n",
    "Less than or equal to : <="
   ]
  },
  {
   "cell_type": "markdown",
   "id": "2126b824",
   "metadata": {},
   "source": [
    "====================================================================================================================="
   ]
  },
  {
   "cell_type": "markdown",
   "id": "e6b15cfd",
   "metadata": {},
   "source": [
    "### Question 6\n",
    "How do you tell the difference between the equal to and assignment operators?Describe a condition and when you would use one."
   ]
  },
  {
   "cell_type": "markdown",
   "id": "899e4542",
   "metadata": {},
   "source": [
    "### Answer 6\n",
    "Equal Operator is == and Assignment operator is =\n",
    "\n"
   ]
  },
  {
   "cell_type": "markdown",
   "id": "596428ba",
   "metadata": {},
   "source": [
    "In order to compare two values, we use Equal (==) operator. The output of a Equal operator is a Boolean value\n",
    "\n",
    "Example :  3 == 4 will result in False."
   ]
  },
  {
   "cell_type": "markdown",
   "id": "65a1f05a",
   "metadata": {},
   "source": [
    "Assignment Operator (=) are used to assign some values to a variables.\n",
    "\n",
    "Example: a = 2 In this case value 2 will be assigned to the variable a.\n",
    "\n",
    "\n",
    "Thus, depending upon the requirement, the choice of operator will differ. If there is any assignment of value needed, then we use assignment operator ( = ) and in case we need to check whether two values are equal or not, we use Equal operator ( == )"
   ]
  },
  {
   "cell_type": "markdown",
   "id": "80b98de9",
   "metadata": {},
   "source": [
    "There are different types of assignment operators available: +=, -=, etc."
   ]
  },
  {
   "cell_type": "markdown",
   "id": "43c84a71",
   "metadata": {},
   "source": [
    "====================================================================================================================="
   ]
  },
  {
   "cell_type": "markdown",
   "id": "b1ce73ec",
   "metadata": {},
   "source": [
    "### Question 7"
   ]
  },
  {
   "cell_type": "code",
   "execution_count": null,
   "id": "5f6dbd5f",
   "metadata": {},
   "outputs": [],
   "source": [
    "\"\"\"\n",
    "Identify the three blocks in this code:\n",
    "spam = 0\n",
    "if spam == 10:\n",
    "print('eggs')\n",
    "if spam > 5:\n",
    "print('bacon')\n",
    "else:\n",
    "print('ham')\n",
    "print('spam')\n",
    "print('spam')\n",
    "\"\"\""
   ]
  },
  {
   "cell_type": "markdown",
   "id": "ddc1f17f",
   "metadata": {},
   "source": [
    "### Answer 7\n",
    "Python uses indentation to differentiate between different blocks. \n",
    "If we properly indent the code we will get below three blocks of code:"
   ]
  },
  {
   "cell_type": "code",
   "execution_count": null,
   "id": "9bc91b9e",
   "metadata": {},
   "outputs": [],
   "source": [
    "spam = 0          \n",
    "\n",
    "if spam == 10:\n",
    "    print('eggs')     # First Code Block\n",
    "if spam > 5:\n",
    "    print('bacon')    # Second Code Block\n",
    "else:\n",
    "    print('ham')      # Third Code Block\n",
    "\n",
    "print('spam')\n",
    "print('spam')"
   ]
  },
  {
   "cell_type": "markdown",
   "id": "d9c72e54",
   "metadata": {},
   "source": [
    "====================================================================================================================="
   ]
  },
  {
   "cell_type": "markdown",
   "id": "fae19d4d",
   "metadata": {},
   "source": [
    "### Question 8\n",
    "Write code that prints Hello if 1 is stored in spam, prints Howdy if 2 is stored in spam, and prints Greetings! if anything else is stored in spam."
   ]
  },
  {
   "cell_type": "markdown",
   "id": "86bb2f71",
   "metadata": {},
   "source": [
    "### Answer 8\n"
   ]
  },
  {
   "cell_type": "code",
   "execution_count": null,
   "id": "aedc5db7",
   "metadata": {},
   "outputs": [],
   "source": [
    "spam = int(input())\n",
    "\n",
    "if spam == 1:\n",
    "    print('Hello')\n",
    "elif spam == 2:\n",
    "    print('Howdy')\n",
    "else:\n",
    "    print('Greetings!')"
   ]
  },
  {
   "cell_type": "markdown",
   "id": "c0ae18c9",
   "metadata": {},
   "source": [
    "====================================================================================================================="
   ]
  },
  {
   "cell_type": "markdown",
   "id": "ddb13a60",
   "metadata": {},
   "source": [
    "### Question 9\n",
    "If your programme is stuck in an endless loop, what keys you’ll press?"
   ]
  },
  {
   "cell_type": "markdown",
   "id": "f2a7cb15",
   "metadata": {},
   "source": [
    "### Answer 9\n",
    "Ctrl+C to end an infinite loop in prompt.\n",
    "\n",
    "Ctrl+F2 to end an infinite loop in PyCharm.\n",
    "\n",
    "Stop the Kernel to end an infinite loop in Notebook."
   ]
  },
  {
   "cell_type": "markdown",
   "id": "4cf9e18d",
   "metadata": {},
   "source": [
    "====================================================================================================================="
   ]
  },
  {
   "cell_type": "markdown",
   "id": "f0588c0a",
   "metadata": {},
   "source": [
    "### Question 10\n",
    "How can you tell the difference between break and continue?"
   ]
  },
  {
   "cell_type": "markdown",
   "id": "8af0de89",
   "metadata": {},
   "source": [
    "### Answer 10\n",
    "\n",
    "When a break is used within a loop, it will terminate the loop and the next statement outside the loop will get executed.\n",
    "And when a continue is used within a loop, instead of terminating the loop, the current iteration will be skipped and will go execute the next iteration."
   ]
  },
  {
   "cell_type": "markdown",
   "id": "c47f71a4",
   "metadata": {},
   "source": [
    "====================================================================================================================="
   ]
  },
  {
   "cell_type": "markdown",
   "id": "c608f2e6",
   "metadata": {},
   "source": [
    "### Question 11\n",
    "In a for loop, what is the difference between range(10), range(0, 10), and range(0, 10, 1)?"
   ]
  },
  {
   "cell_type": "markdown",
   "id": "d83e3000",
   "metadata": {},
   "source": [
    "### Answer 11\n",
    "Output of all three cases will be same.\n",
    "Range is the function which generates a sequence of numbers wi\n",
    "\n",
    "range(end) - If only one argument is passed, then it will generate a series till the end number excluding the last number.\n",
    "\n",
    "range(start,end) - If two arguments are provided, then a start and end can be provided, and series of number can be produced from the start till the end number excluding the last number.\n",
    "\n",
    "range(start,end,step) - If three arguments are provided, then a start , end and step size can be provided."
   ]
  },
  {
   "cell_type": "code",
   "execution_count": 24,
   "id": "1447ecfe",
   "metadata": {},
   "outputs": [
    {
     "name": "stdout",
     "output_type": "stream",
     "text": [
      "0\n",
      "1\n",
      "2\n",
      "3\n",
      "4\n",
      "5\n",
      "6\n",
      "7\n",
      "8\n",
      "9\n"
     ]
    }
   ],
   "source": [
    "for i in range(10):\n",
    "    print(i)"
   ]
  },
  {
   "cell_type": "code",
   "execution_count": 25,
   "id": "9778bce7",
   "metadata": {},
   "outputs": [
    {
     "name": "stdout",
     "output_type": "stream",
     "text": [
      "0\n",
      "1\n",
      "2\n",
      "3\n",
      "4\n",
      "5\n",
      "6\n",
      "7\n",
      "8\n",
      "9\n"
     ]
    }
   ],
   "source": [
    "for i in range(0,10):\n",
    "    print(i)"
   ]
  },
  {
   "cell_type": "code",
   "execution_count": 26,
   "id": "e4ba443d",
   "metadata": {},
   "outputs": [
    {
     "name": "stdout",
     "output_type": "stream",
     "text": [
      "0\n",
      "1\n",
      "2\n",
      "3\n",
      "4\n",
      "5\n",
      "6\n",
      "7\n",
      "8\n",
      "9\n"
     ]
    }
   ],
   "source": [
    "for i in range(0,10,1):\n",
    "    print(i)"
   ]
  },
  {
   "cell_type": "markdown",
   "id": "c260eec3",
   "metadata": {},
   "source": [
    "====================================================================================================================="
   ]
  },
  {
   "cell_type": "markdown",
   "id": "bf15e244",
   "metadata": {},
   "source": [
    "### Question 12\n",
    "Write a short program that prints the numbers 1 to 10 using a for loop. Then write an equivalent program that prints the numbers 1 to 10 using a while loop."
   ]
  },
  {
   "cell_type": "markdown",
   "id": "0cd95143",
   "metadata": {},
   "source": [
    "### Answer 12\n"
   ]
  },
  {
   "cell_type": "code",
   "execution_count": 17,
   "id": "ae8d6cd3",
   "metadata": {},
   "outputs": [
    {
     "name": "stdout",
     "output_type": "stream",
     "text": [
      "1\n",
      "2\n",
      "3\n",
      "4\n",
      "5\n",
      "6\n",
      "7\n",
      "8\n",
      "9\n",
      "10\n"
     ]
    }
   ],
   "source": [
    "# Using for loop\n",
    "for i in range(1,11):\n",
    "    print(i)"
   ]
  },
  {
   "cell_type": "code",
   "execution_count": 22,
   "id": "65a78f0f",
   "metadata": {},
   "outputs": [
    {
     "name": "stdout",
     "output_type": "stream",
     "text": [
      "1\n",
      "2\n",
      "3\n",
      "4\n",
      "5\n",
      "6\n",
      "7\n",
      "8\n",
      "9\n",
      "10\n"
     ]
    }
   ],
   "source": [
    "#Using while loop\n",
    "while(a <= 10):\n",
    "    print(a)\n",
    "    a += 1"
   ]
  },
  {
   "cell_type": "markdown",
   "id": "4a0bf861",
   "metadata": {},
   "source": [
    "====================================================================================================================="
   ]
  },
  {
   "cell_type": "markdown",
   "id": "559735d8",
   "metadata": {},
   "source": [
    "### Question 13\n",
    "If you had a function named bacon() inside a module named spam, how would you call it after importing spam?"
   ]
  },
  {
   "cell_type": "markdown",
   "id": "1281acc6",
   "metadata": {},
   "source": [
    "### Answer 13"
   ]
  },
  {
   "cell_type": "code",
   "execution_count": null,
   "id": "6113b5f0",
   "metadata": {},
   "outputs": [],
   "source": [
    "import spam\n",
    "\n",
    "spam.bacon()   # to call a function from module spam"
   ]
  },
  {
   "cell_type": "markdown",
   "id": "767ed9c0",
   "metadata": {},
   "source": [
    "====================================================================================================================="
   ]
  }
 ],
 "metadata": {
  "kernelspec": {
   "display_name": "Python 3 (ipykernel)",
   "language": "python",
   "name": "python3"
  },
  "language_info": {
   "codemirror_mode": {
    "name": "ipython",
    "version": 3
   },
   "file_extension": ".py",
   "mimetype": "text/x-python",
   "name": "python",
   "nbconvert_exporter": "python",
   "pygments_lexer": "ipython3",
   "version": "3.9.12"
  }
 },
 "nbformat": 4,
 "nbformat_minor": 5
}
