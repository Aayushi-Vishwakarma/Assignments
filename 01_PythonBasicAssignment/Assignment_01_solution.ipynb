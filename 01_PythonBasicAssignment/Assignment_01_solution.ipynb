{
 "cells": [
  {
   "cell_type": "markdown",
   "id": "d8bb90d7",
   "metadata": {},
   "source": [
    "### Question 1"
   ]
  },
  {
   "cell_type": "code",
   "execution_count": null,
   "id": "7da9034b",
   "metadata": {},
   "outputs": [],
   "source": [
    "\"\"\"\n",
    "In the below elements which of them are values or an expression? eg:- values can be integer or string and expressions will be mathematical operators.\n",
    "*\n",
    "'hello'\n",
    "-87.8\n",
    "-\n",
    "/\n",
    "+\n",
    "6\n",
    "\"\"\""
   ]
  },
  {
   "cell_type": "markdown",
   "id": "3cc5c748",
   "metadata": {},
   "source": [
    "### Answer 1\n",
    "In programming, an expression is a combination of operators and operands(variables,values,etc) which can be evaluated to produce some result.\n",
    "A value is a number, string, etc that can be stored in a variable or can be a result of an expression.\n",
    "\n",
    "Therefore, considering the question * , - , /, + are the mathematical operators. Thus can be named as an expression.\n",
    "And 'hello' , -87.8 , 6 are the values.\n"
   ]
  },
  {
   "cell_type": "markdown",
   "id": "4892a32c",
   "metadata": {},
   "source": [
    "====================================================================================================================="
   ]
  },
  {
   "cell_type": "markdown",
   "id": "004442a5",
   "metadata": {},
   "source": [
    "### Question 2\n",
    "What is the difference between string and variable?"
   ]
  },
  {
   "cell_type": "markdown",
   "id": "b8f97484",
   "metadata": {},
   "source": [
    "### Answer 2\n",
    "In python, string is a sequence of characters which can be enclosed by a single quote('...') or double quotes(\"...\"). A single character is also considered as a string. String is a data type.\n",
    "\n",
    "Variable is a name given to a memory location where a certain data(number, string, etc) is stored, which makes it easier to access the value stored at the memory location."
   ]
  },
  {
   "cell_type": "markdown",
   "id": "47b10a0e",
   "metadata": {},
   "source": [
    "====================================================================================================================="
   ]
  },
  {
   "cell_type": "markdown",
   "id": "1ca24808",
   "metadata": {},
   "source": [
    "### Question 3\n",
    "Describe three different data types."
   ]
  },
  {
   "cell_type": "markdown",
   "id": "bf17705f",
   "metadata": {},
   "source": [
    "### Answer 3\n",
    "In python there are various data types available.\n",
    "\n",
    "For example:\n",
    "int - integer - This is an in-built datatype which is used to represent numbers.\n",
    "Example: 5, 26728, 767186\n",
    "\n",
    "list - [] - List is a datatype which is used to store a multiple types of data which is enclosed by []. List is mutable.\n",
    "Example: [2,'a',[2,4,5],3.6]\n",
    "\n",
    "dictionary - {} - Dictionary is a data type which holds the entry in a form key-value pair. Key is the unique entity in the dictionary.\n",
    "Example:{\"a\": 7 ,\"b\" : 'python'} where \"a\", \"b\" are keys and 7,'python' are the values"
   ]
  },
  {
   "cell_type": "markdown",
   "id": "6776d0de",
   "metadata": {},
   "source": [
    "====================================================================================================================="
   ]
  },
  {
   "cell_type": "markdown",
   "id": "5488286f",
   "metadata": {},
   "source": [
    "### Question 4\n",
    "What is an expression made up of? What do all expressions do?"
   ]
  },
  {
   "cell_type": "markdown",
   "id": "f61ba15b",
   "metadata": {},
   "source": [
    "### Answer 4\n",
    "An expression is made up of operators and operands. Operators are various mathematical operators like +,-,/,* and Operands can be a value, variable, etc. All expressions evaluates to produce some value.\n",
    "\n",
    "\n",
    "Example1: 5 + 6 is an expression having + operator and 5,6 as operands. This will result in 11 which is a value.\n",
    "\n",
    "Example2: a,b = 2,3\n",
    "\n",
    "a * b is an expression having * operator and a,b variables as operands. The result of this expression is 6. \n"
   ]
  },
  {
   "cell_type": "markdown",
   "id": "76423d7e",
   "metadata": {},
   "source": [
    "====================================================================================================================="
   ]
  },
  {
   "cell_type": "markdown",
   "id": "ccbccc3e",
   "metadata": {},
   "source": [
    "### Question 5\n",
    "This assignment statements, like spam = 10. What is the difference between an expression and a statement?"
   ]
  },
  {
   "cell_type": "markdown",
   "id": "73d3f27b",
   "metadata": {},
   "source": [
    "### Answer 5\n",
    "\n",
    "An expression is a combination of operators and operands. Operators are various mathematical operators like +,-,/,* and Operands can be a value, variable, etc. All expressions evaluates to produce some value.\n",
    "\n",
    "Example: 25 / 5 is an expression producing result as 5.0\n",
    "\n",
    "Statement is an instruction or command which tells the system to do something. Every line in a code can be considered as a statement.\n",
    "\n",
    "Example: \n",
    "\n",
    "Statement 1 : a = 5\n",
    "\n",
    "Statement 2 : print(a)"
   ]
  },
  {
   "cell_type": "markdown",
   "id": "3d72dfa7",
   "metadata": {},
   "source": [
    "====================================================================================================================="
   ]
  },
  {
   "cell_type": "markdown",
   "id": "e6b15cfd",
   "metadata": {},
   "source": [
    "### Question 6"
   ]
  },
  {
   "cell_type": "code",
   "execution_count": null,
   "id": "63b7d325",
   "metadata": {},
   "outputs": [],
   "source": [
    "\"\"\"\n",
    "After running the following code, what does the variable bacon contain?\n",
    "bacon = 22\n",
    "bacon + 1\n",
    "\"\"\""
   ]
  },
  {
   "cell_type": "markdown",
   "id": "36a19e5e",
   "metadata": {},
   "source": [
    "### Answer 6\n",
    "The value in variable bacon will be 22."
   ]
  },
  {
   "cell_type": "markdown",
   "id": "c931ef47",
   "metadata": {},
   "source": [
    "====================================================================================================================="
   ]
  },
  {
   "cell_type": "markdown",
   "id": "b1ce73ec",
   "metadata": {},
   "source": [
    "### Question 7"
   ]
  },
  {
   "cell_type": "code",
   "execution_count": null,
   "id": "d6888f9f",
   "metadata": {},
   "outputs": [],
   "source": [
    "\"\"\"\n",
    "What should the values of the following two terms be?\n",
    "'spam' + 'spamspam'\n",
    "'spam' * 3\n",
    "\"\"\""
   ]
  },
  {
   "cell_type": "markdown",
   "id": "8a796e60",
   "metadata": {},
   "source": [
    "### Answer 7\n",
    "Output of both the terms will be:\n",
    "\n",
    "'spamspamspam'"
   ]
  },
  {
   "cell_type": "markdown",
   "id": "a3ce5c64",
   "metadata": {},
   "source": [
    "====================================================================================================================="
   ]
  },
  {
   "cell_type": "markdown",
   "id": "fae19d4d",
   "metadata": {},
   "source": [
    "### Question 8\n",
    "Why is eggs a valid variable name while 100 is invalid?"
   ]
  },
  {
   "cell_type": "markdown",
   "id": "7d2d428a",
   "metadata": {},
   "source": [
    "### Answer 8\n",
    "According to the naming convention of variables in python, \n",
    "\n",
    "a variable name can only start with a letter or _ . A variable name cannot start with a number.\n",
    "\n",
    "Thus eggs is a valid variable name but 100 is not valid.\n",
    "\n"
   ]
  },
  {
   "cell_type": "markdown",
   "id": "7dd6c4d7",
   "metadata": {},
   "source": [
    "====================================================================================================================="
   ]
  },
  {
   "cell_type": "markdown",
   "id": "ddb13a60",
   "metadata": {},
   "source": [
    "### Question 9\n",
    "What three functions can be used to get the integer, floating-point number, or string version of a value?"
   ]
  },
  {
   "cell_type": "markdown",
   "id": "f91b106d",
   "metadata": {},
   "source": [
    "### Answer 9\n",
    "int(), float() and  str() are the functions which can be used to get the integer, floating-point number and string,respectively, of a value."
   ]
  },
  {
   "cell_type": "markdown",
   "id": "a17ddd34",
   "metadata": {},
   "source": [
    "====================================================================================================================="
   ]
  },
  {
   "cell_type": "markdown",
   "id": "f0588c0a",
   "metadata": {},
   "source": [
    "### Question 10"
   ]
  },
  {
   "cell_type": "code",
   "execution_count": null,
   "id": "9147579a",
   "metadata": {},
   "outputs": [],
   "source": [
    "\"\"\"\n",
    "Why does this expression cause an error? How can you fix it?\n",
    "'I have eaten ' + 99 + ' burritos.'\n",
    "\"\"\""
   ]
  },
  {
   "cell_type": "markdown",
   "id": "036ee0b0",
   "metadata": {},
   "source": [
    "### Answer 10\n",
    "The + operator can concatenate str to a str only and to an integer. Thus to fix this issue we need to pass the integer as a string as shown below:"
   ]
  },
  {
   "cell_type": "code",
   "execution_count": 8,
   "id": "34bae394",
   "metadata": {},
   "outputs": [
    {
     "data": {
      "text/plain": [
       "'I have eaten 99 burritos.'"
      ]
     },
     "execution_count": 8,
     "metadata": {},
     "output_type": "execute_result"
    }
   ],
   "source": [
    "'I have eaten ' + '99' + ' burritos.'"
   ]
  },
  {
   "cell_type": "markdown",
   "id": "b7092ef9",
   "metadata": {},
   "source": [
    "====================================================================================================================="
   ]
  }
 ],
 "metadata": {
  "kernelspec": {
   "display_name": "Python 3 (ipykernel)",
   "language": "python",
   "name": "python3"
  },
  "language_info": {
   "codemirror_mode": {
    "name": "ipython",
    "version": 3
   },
   "file_extension": ".py",
   "mimetype": "text/x-python",
   "name": "python",
   "nbconvert_exporter": "python",
   "pygments_lexer": "ipython3",
   "version": "3.9.12"
  }
 },
 "nbformat": 4,
 "nbformat_minor": 5
}
