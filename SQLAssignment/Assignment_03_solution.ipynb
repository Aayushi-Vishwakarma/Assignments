{
 "cells": [
  {
   "cell_type": "markdown",
   "id": "82faaefb",
   "metadata": {},
   "source": [
    "### Question 1\n",
    "Write an SQL query to print the FIRST_NAME from Worker table after removing white spaces from the right side."
   ]
  },
  {
   "cell_type": "markdown",
   "id": "ebc75fd7",
   "metadata": {},
   "source": [
    "### Answer 1\n",
    "SELECT RTRIM(FIRST_NAME) FROM WORKER;"
   ]
  },
  {
   "cell_type": "markdown",
   "id": "2206c3a6",
   "metadata": {},
   "source": [
    "====================================================================================================================="
   ]
  },
  {
   "cell_type": "markdown",
   "id": "9df9d9aa",
   "metadata": {},
   "source": [
    "### Question 2\n",
    "Write an SQL query that fetches the unique values of DEPARTMENT from Worker table and prints its length."
   ]
  },
  {
   "cell_type": "markdown",
   "id": "d8bf2b80",
   "metadata": {},
   "source": [
    "### Answer 2\n",
    "SELECT LEN(DISTINCT FIRST_NAME) FROM WORKER;"
   ]
  },
  {
   "cell_type": "markdown",
   "id": "147853c7",
   "metadata": {},
   "source": [
    "====================================================================================================================="
   ]
  },
  {
   "cell_type": "markdown",
   "id": "07e13d3d",
   "metadata": {},
   "source": [
    "### Question 3\n",
    "Write an SQL query to fetch nth max salaries from a table."
   ]
  },
  {
   "cell_type": "markdown",
   "id": "0bbf9704",
   "metadata": {},
   "source": [
    "### Answer 3\n",
    "SELECT SALARY FROM TABLE_NAME ORDER BY SALARY LIMIT N-1,1;"
   ]
  },
  {
   "cell_type": "markdown",
   "id": "476352a8",
   "metadata": {},
   "source": [
    "====================================================================================================================="
   ]
  }
 ],
 "metadata": {
  "kernelspec": {
   "display_name": "Python 3 (ipykernel)",
   "language": "python",
   "name": "python3"
  },
  "language_info": {
   "codemirror_mode": {
    "name": "ipython",
    "version": 3
   },
   "file_extension": ".py",
   "mimetype": "text/x-python",
   "name": "python",
   "nbconvert_exporter": "python",
   "pygments_lexer": "ipython3",
   "version": "3.9.12"
  }
 },
 "nbformat": 4,
 "nbformat_minor": 5
}
