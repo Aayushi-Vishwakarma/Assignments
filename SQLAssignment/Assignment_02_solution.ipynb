{
 "cells": [
  {
   "cell_type": "markdown",
   "id": "82faaefb",
   "metadata": {},
   "source": [
    "### Question 1\n",
    "Write an SQL query to print the first three characters of  FIRST_NAME from Worker table."
   ]
  },
  {
   "cell_type": "markdown",
   "id": "ebc75fd7",
   "metadata": {},
   "source": [
    "### Answer 1\n",
    "SELECT SUBSTRING(FIRST_NAME,1,3) FROM WORKER;\n",
    "\n",
    "====================================================================================================================="
   ]
  },
  {
   "cell_type": "markdown",
   "id": "9df9d9aa",
   "metadata": {},
   "source": [
    "### Question 2\n",
    "Write an SQL query to find the position of the alphabet (‘a’) in the first name column ‘Amitabh’ from Worker table."
   ]
  },
  {
   "cell_type": "markdown",
   "id": "d8bf2b80",
   "metadata": {},
   "source": [
    "### Answer 2\n",
    "SELECT POSITION('a' IN FIRST_NAME) FROM STUDENTS WHERE FIRST_NAME = 'Amitabh';"
   ]
  },
  {
   "cell_type": "markdown",
   "id": "147853c7",
   "metadata": {},
   "source": [
    "====================================================================================================================="
   ]
  },
  {
   "cell_type": "markdown",
   "id": "07e13d3d",
   "metadata": {},
   "source": [
    "### Question 3\n",
    "Write an SQL query to print the name of employees having the highest salary in each department."
   ]
  },
  {
   "cell_type": "markdown",
   "id": "0bbf9704",
   "metadata": {},
   "source": [
    "### Answer 3\n",
    "SELECT FIRST_NAME,DEPARTMENT_NAME,SALARY FROM WORKER WHERE (DEPARTMENT_NAME,SALARY) IN (SELECT DEPARTMENT_NAME,MAX(SALARY) FROM WORKER GROUP BY DEPARTMENT_NAME);"
   ]
  },
  {
   "cell_type": "markdown",
   "id": "476352a8",
   "metadata": {},
   "source": [
    "====================================================================================================================="
   ]
  }
 ],
 "metadata": {
  "kernelspec": {
   "display_name": "Python 3 (ipykernel)",
   "language": "python",
   "name": "python3"
  },
  "language_info": {
   "codemirror_mode": {
    "name": "ipython",
    "version": 3
   },
   "file_extension": ".py",
   "mimetype": "text/x-python",
   "name": "python",
   "nbconvert_exporter": "python",
   "pygments_lexer": "ipython3",
   "version": "3.9.12"
  }
 },
 "nbformat": 4,
 "nbformat_minor": 5
}
