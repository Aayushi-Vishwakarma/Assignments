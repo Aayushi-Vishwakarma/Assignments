{
 "cells": [
  {
   "cell_type": "markdown",
   "id": "faf413b4",
   "metadata": {},
   "source": [
    "### Question 1\n"
   ]
  },
  {
   "cell_type": "code",
   "execution_count": null,
   "id": "6b6a0128",
   "metadata": {},
   "outputs": [],
   "source": [
    "\"Write an SQL query to fetch “FIRST_NAME” from Worker table using the alias name as <WORKER_NAME>.\""
   ]
  },
  {
   "cell_type": "markdown",
   "id": "54325728",
   "metadata": {},
   "source": [
    "### Answer 1\n",
    "SELECT WORKER_NAME.FIRST_NAME FROM WORKER AS WORKER_NAME;"
   ]
  },
  {
   "cell_type": "markdown",
   "id": "6d89098f",
   "metadata": {},
   "source": [
    "====================================================================================================================="
   ]
  },
  {
   "cell_type": "markdown",
   "id": "9ac93bb2",
   "metadata": {},
   "source": [
    "### Question 2\n",
    "Write an SQL query to fetch unique values of DEPARTMENT from Worker table."
   ]
  },
  {
   "cell_type": "markdown",
   "id": "90d45528",
   "metadata": {},
   "source": [
    "### Answer 2\n",
    "SELECT DISTINCT DEPARTMENT FROM WORKER;"
   ]
  },
  {
   "cell_type": "markdown",
   "id": "753b189d",
   "metadata": {},
   "source": [
    "====================================================================================================================="
   ]
  },
  {
   "cell_type": "markdown",
   "id": "0b06e738",
   "metadata": {},
   "source": [
    "### Question 3\n",
    "Write an SQL query to show the last 5 record from a table."
   ]
  },
  {
   "cell_type": "markdown",
   "id": "9163e206",
   "metadata": {},
   "source": [
    "### Answer 3\n",
    "\n",
    "Consider a STUDENTS table below:"
   ]
  },
  {
   "cell_type": "code",
   "execution_count": null,
   "id": "1fafb9cb",
   "metadata": {},
   "outputs": [],
   "source": [
    "\"\"\"\n",
    "STUDENT_ID    NAME      AGE\n",
    "---------------------------\n",
    "1             John      18\n",
    "2             Mark      25\n",
    "3             Kate      30\n",
    "4             Jim       40\n",
    "5             Lio       55\n",
    "6             Harry     22\n",
    "7             Maria     28\n",
    "8             Ronald    33\n",
    "9             Jack      55\n",
    "10            Ron       44\n",
    "\"\"\""
   ]
  },
  {
   "cell_type": "markdown",
   "id": "6ae379ab",
   "metadata": {},
   "source": [
    "To fetch last 5 rows:\n",
    "\n",
    "SELECT * FROM STUDENTS ORDER BY STUDENT_ID DESC LIMIT 5;"
   ]
  },
  {
   "cell_type": "markdown",
   "id": "44eedf6b",
   "metadata": {},
   "source": [
    "====================================================================================================================="
   ]
  }
 ],
 "metadata": {
  "kernelspec": {
   "display_name": "Python 3 (ipykernel)",
   "language": "python",
   "name": "python3"
  },
  "language_info": {
   "codemirror_mode": {
    "name": "ipython",
    "version": 3
   },
   "file_extension": ".py",
   "mimetype": "text/x-python",
   "name": "python",
   "nbconvert_exporter": "python",
   "pygments_lexer": "ipython3",
   "version": "3.9.12"
  }
 },
 "nbformat": 4,
 "nbformat_minor": 5
}
